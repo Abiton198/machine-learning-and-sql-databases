{
 "cells": [
  {
   "cell_type": "code",
   "execution_count": 5,
   "id": "d3ac1e5e-3a7d-44cd-8285-9177aaceaea3",
   "metadata": {
    "tags": []
   },
   "outputs": [
    {
     "name": "stdin",
     "output_type": "stream",
     "text": [
      "Enter file name:  roster_data.json\n"
     ]
    },
    {
     "name": "stdout",
     "output_type": "stream",
     "text": [
      "A: | Zunera, | si206 | 0\n",
      "A: | Zosia, | si110 | 0\n",
      "A: | XYZZY41616D69726168736932303630\n"
     ]
    }
   ],
   "source": [
    "import json\n",
    "import sqlite3\n",
    "\n",
    "conn = sqlite3.connect('rosterdb.sqlite')\n",
    "cur = conn.cursor() #file handling\n",
    "\n",
    "# Do some setup - create tables\n",
    "cur.executescript('''\n",
    "DROP TABLE IF EXISTS User;\n",
    "DROP TABLE IF EXISTS Member;\n",
    "DROP TABLE IF EXISTS Course;\n",
    "\n",
    "CREATE TABLE User (\n",
    "    id     INTEGER PRIMARY KEY,\n",
    "    name   TEXT UNIQUE\n",
    ");\n",
    "\n",
    "CREATE TABLE Course (\n",
    "    id     INTEGER PRIMARY KEY,\n",
    "    title  TEXT UNIQUE\n",
    ");\n",
    "\n",
    "CREATE TABLE Member (\n",
    "    user_id     INTEGER,\n",
    "    course_id   INTEGER,\n",
    "    role        INTEGER,\n",
    "    PRIMARY KEY (user_id, course_id, role)\n",
    ")\n",
    "''')\n",
    "\n",
    "fname = input('Enter file name: ') # roster_data.json\n",
    "if len(fname) < 1:\n",
    "    fname = 'roster_data.json'\n",
    "\n",
    "#   [ \"Charley\", \"si110\", 1 ],\n",
    "#   [ \"Mea\", \"si110\", 0 ],\n",
    "\n",
    "#open data\n",
    "str_data = open(fname).read()\n",
    "json_data = json.loads(str_data)\n",
    "\n",
    "for entry in json_data:\n",
    "\n",
    "    name = entry[0]\n",
    "    title = entry[1]\n",
    "    role = entry[2]\n",
    "\n",
    "    # print((name, title))\n",
    "\n",
    "    cur.execute('''INSERT OR IGNORE INTO User (name)\n",
    "        VALUES ( ? )''', ( name, ) )\n",
    "    cur.execute('SELECT id FROM User WHERE name = ? ', (name, ))\n",
    "    user_id = cur.fetchone()[0]\n",
    "\n",
    "    cur.execute('''INSERT OR IGNORE INTO Course (title)\n",
    "        VALUES ( ? )''', ( title, ) )\n",
    "    cur.execute('SELECT id FROM Course WHERE title = ? ', (title, ))\n",
    "    course_id = cur.fetchone()[0]\n",
    "\n",
    "    cur.execute('''INSERT OR REPLACE INTO Member\n",
    "        (user_id, course_id, role) VALUES ( ?, ?, ? )''',\n",
    "        ( user_id, course_id, role) )\n",
    "\n",
    "    conn.commit()\n",
    "    \n",
    "    #data retrieve\n",
    "sqlstr = '''SELECT User.name,Course.title, Member.role FROM User \n",
    "            JOIN Member JOIN Course \n",
    "            ON User.id = Member.user_id AND Member.course_id = Course.id\n",
    "            ORDER BY User.name DESC, Course.title DESC, Member.role DESC LIMIT 2;\n",
    "            '''\n",
    "\n",
    "sqlstr2 =''' SELECT 'XYZZY' || hex(User.name || Course.title || Member.role ) AS X FROM User \n",
    "             JOIN Member JOIN Course \n",
    "             ON User.id = Member.user_id AND Member.course_id = Course.id\n",
    "             ORDER BY X LIMIT 1;\n",
    "        '''\n",
    "    \n",
    "    # Loop through the rows returned by the SQL query and print each album and its artist\n",
    "for row in cur.execute(sqlstr):\n",
    "    print(f\"A: | {row[0]}, | {row[1]} | {row[2]}\")\n",
    " \n",
    "    #query data \n",
    "for row in cur.execute(sqlstr2):\n",
    "    print(f\"A: | {row[0]}\")\n",
    "    \n",
    "# Close the database connection after the script finishes\n",
    "conn.close()\n"
   ]
  },
  {
   "cell_type": "code",
   "execution_count": null,
   "id": "ae4c19d2-e692-40b5-a03e-d8397ac4944c",
   "metadata": {},
   "outputs": [],
   "source": []
  }
 ],
 "metadata": {
  "kernelspec": {
   "display_name": "Python 3 (ipykernel)",
   "language": "python",
   "name": "python3"
  },
  "language_info": {
   "codemirror_mode": {
    "name": "ipython",
    "version": 3
   },
   "file_extension": ".py",
   "mimetype": "text/x-python",
   "name": "python",
   "nbconvert_exporter": "python",
   "pygments_lexer": "ipython3",
   "version": "3.11.5"
  }
 },
 "nbformat": 4,
 "nbformat_minor": 5
}
