{
 "cells": [
  {
   "cell_type": "code",
   "execution_count": 30,
   "id": "f7a8bb2d-fc71-4d3f-97ba-30aea636532a",
   "metadata": {
    "tags": []
   },
   "outputs": [
    {
     "name": "stdout",
     "output_type": "stream",
     "text": [
      "(8, None, 1.0, 35, 'https://cpdaccredited.wixsite.com/cld-institute/news-resources-1')\n",
      "(8, None, 1.0, 34, 'https://cpdaccredited.wixsite.com/cld-institute/blank-page-1-1')\n",
      "(8, None, 1.0, 33, 'https://cpdaccredited.wixsite.com/cld-institute/blank-page-2')\n",
      "(8, None, 1.0, 32, 'https://cpdaccredited.wixsite.com/cld-institute/publications-1')\n",
      "(8, None, 1.0, 31, 'https://cpdaccredited.wixsite.com/cld-institute/courses')\n",
      "(8, None, 1.0, 30, 'https://cpdaccredited.wixsite.com/cld-institute/about')\n",
      "(8, None, 1.0, 29, 'https://cpdaccredited.wixsite.com/cld-institute')\n",
      "(7, None, 1.0, 36, 'https://cpdaccredited.wixsite.com/cld-institute/contact-us')\n",
      "(4, 2.1875000000000018, 2.1875000000000018, 2, 'http://www.dr-chuck.com/dr-chuck/resume/index.htm')\n",
      "(2, 0.5250000000000005, 0.5250000000000005, 17, 'http://www.dr-chuck.com/dr-chuck/resume')\n",
      "(2, 1.050000000000001, 1.050000000000001, 15, 'http://www.dr-chuck.com/dr-chuck/resume/speaking.htm')\n",
      "(2, 1.050000000000001, 1.050000000000001, 9, 'http://www.dr-chuck.com/dr-chuck/resume/bio.htm')\n",
      "(2, 1.050000000000001, 1.050000000000001, 1, 'http://www.dr-chuck.com')\n",
      "(1, 1.0, 1.0, 18, 'http://www.dr-chuck.com/dr-chuck/resume/pictures')\n",
      "(1, 1.0, 1.0, 16, 'http://www.dr-chuck.com/dr-chuck/resume/pictures/index.htm')\n",
      "(1, 0.5250000000000005, 0.5250000000000005, 14, 'http://www.dr-chuck.com/dr-chuck/resume/leadership.htm')\n",
      "(1, 0.6125000000000006, 0.6125000000000006, 4, 'http://www.dr-chuck.com/sakai-book')\n",
      "(1, 1.0, 1.0, 3, 'http://www.dr-chuck.com/office')\n",
      "18 rows.\n"
     ]
    }
   ],
   "source": [
    "import sqlite3\n",
    "\n",
    "conn = sqlite3.connect('spider.sqlite')\n",
    "cur = conn.cursor()\n",
    "\n",
    "cur.execute('''SELECT COUNT(from_id) AS inbound, old_rank, new_rank, id, url \n",
    "     FROM Pages JOIN Links ON Pages.id = Links.to_id\n",
    "     WHERE html IS NOT NULL\n",
    "     GROUP BY id ORDER BY inbound DESC''')\n",
    "\n",
    "count = 0\n",
    "for row in cur :\n",
    "    if count < 50 : print(row)\n",
    "    count = count + 1\n",
    "print(count, 'rows.')\n",
    "cur.close()\n"
   ]
  },
  {
   "cell_type": "code",
   "execution_count": null,
   "id": "64f4fa5e-b3a1-4269-ac97-950c25ae2400",
   "metadata": {},
   "outputs": [],
   "source": []
  }
 ],
 "metadata": {
  "kernelspec": {
   "display_name": "Python 3 (ipykernel)",
   "language": "python",
   "name": "python3"
  },
  "language_info": {
   "codemirror_mode": {
    "name": "ipython",
    "version": 3
   },
   "file_extension": ".py",
   "mimetype": "text/x-python",
   "name": "python",
   "nbconvert_exporter": "python",
   "pygments_lexer": "ipython3",
   "version": "3.11.5"
  }
 },
 "nbformat": 4,
 "nbformat_minor": 5
}
