{
 "cells": [
  {
   "cell_type": "code",
   "execution_count": 1,
   "id": "441cdee2-9a03-44ef-8ace-d88560c191e4",
   "metadata": {
    "tags": []
   },
   "outputs": [
    {
     "name": "stderr",
     "output_type": "stream",
     "text": [
      "Found cached dataset csv (/home/abitondev/.cache/huggingface/datasets/csv/default-77679b28e66bbff5/0.0.0/6954658bab30a358235fa864b05cf819af0e179325c740e4bc853bcc7ec513e1)\n"
     ]
    },
    {
     "data": {
      "application/vnd.jupyter.widget-view+json": {
       "model_id": "a764c5ea29d646ed8a456efc4d7d2127",
       "version_major": 2,
       "version_minor": 0
      },
      "text/plain": [
       "  0%|          | 0/1 [00:00<?, ?it/s]"
      ]
     },
     "metadata": {},
     "output_type": "display_data"
    },
    {
     "data": {
      "text/plain": [
       "DatasetDict({\n",
       "    train: Dataset({\n",
       "        features: ['Year', 'Datetime', 'Stage', 'Stadium', 'City', 'Home Team Name', 'Home Team Goals', 'Away Team Goals', 'Away Team Name', 'Win conditions', 'Attendance', 'Half-time Home Goals', 'Half-time Away Goals', 'Referee', 'Assistant 1', 'Assistant 2', 'RoundID', 'MatchID', 'Home Team Initials', 'Away Team Initials'],\n",
       "        num_rows: 4572\n",
       "    })\n",
       "})"
      ]
     },
     "execution_count": 1,
     "metadata": {},
     "output_type": "execute_result"
    }
   ],
   "source": [
    "#local dataset \n",
    "from datasets import load_dataset\n",
    "\n",
    "ds_files = './WorldCupMatches.csv'\n",
    "ds = load_dataset('csv', data_files = ds_files)\n",
    "ds"
   ]
  },
  {
   "cell_type": "code",
   "execution_count": 2,
   "id": "585043c4-ba2f-4fdc-b015-d8315b2c791a",
   "metadata": {
    "tags": []
   },
   "outputs": [
    {
     "data": {
      "text/html": [
       "<div>\n",
       "<style scoped>\n",
       "    .dataframe tbody tr th:only-of-type {\n",
       "        vertical-align: middle;\n",
       "    }\n",
       "\n",
       "    .dataframe tbody tr th {\n",
       "        vertical-align: top;\n",
       "    }\n",
       "\n",
       "    .dataframe thead th {\n",
       "        text-align: right;\n",
       "    }\n",
       "</style>\n",
       "<table border=\"1\" class=\"dataframe\">\n",
       "  <thead>\n",
       "    <tr style=\"text-align: right;\">\n",
       "      <th></th>\n",
       "      <th>Year</th>\n",
       "      <th>Datetime</th>\n",
       "      <th>Stadium</th>\n",
       "      <th>City</th>\n",
       "      <th>Home Team Name</th>\n",
       "      <th>Home Team Goals</th>\n",
       "      <th>Away Team Goals</th>\n",
       "      <th>Away Team Name</th>\n",
       "      <th>Win conditions</th>\n",
       "      <th>Attendance</th>\n",
       "      <th>Half-time Home Goals</th>\n",
       "      <th>Half-time Away Goals</th>\n",
       "      <th>Referee</th>\n",
       "      <th>Assistant 1</th>\n",
       "      <th>Assistant 2</th>\n",
       "      <th>RoundID</th>\n",
       "      <th>MatchID</th>\n",
       "      <th>Home Team Initials</th>\n",
       "      <th>Away Team Initials</th>\n",
       "    </tr>\n",
       "    <tr>\n",
       "      <th>Stage</th>\n",
       "      <th></th>\n",
       "      <th></th>\n",
       "      <th></th>\n",
       "      <th></th>\n",
       "      <th></th>\n",
       "      <th></th>\n",
       "      <th></th>\n",
       "      <th></th>\n",
       "      <th></th>\n",
       "      <th></th>\n",
       "      <th></th>\n",
       "      <th></th>\n",
       "      <th></th>\n",
       "      <th></th>\n",
       "      <th></th>\n",
       "      <th></th>\n",
       "      <th></th>\n",
       "      <th></th>\n",
       "      <th></th>\n",
       "    </tr>\n",
       "  </thead>\n",
       "  <tbody>\n",
       "    <tr>\n",
       "      <th>Group 1</th>\n",
       "      <td>1930.0</td>\n",
       "      <td>13 Jul 1930 - 15:00</td>\n",
       "      <td>Pocitos</td>\n",
       "      <td>Montevideo</td>\n",
       "      <td>France</td>\n",
       "      <td>4.0</td>\n",
       "      <td>1.0</td>\n",
       "      <td>Mexico</td>\n",
       "      <td></td>\n",
       "      <td>4444.0</td>\n",
       "      <td>3.0</td>\n",
       "      <td>0.0</td>\n",
       "      <td>LOMBARDI Domingo (URU)</td>\n",
       "      <td>CRISTOPHE Henry (BEL)</td>\n",
       "      <td>REGO Gilberto (BRA)</td>\n",
       "      <td>201.0</td>\n",
       "      <td>1096.0</td>\n",
       "      <td>FRA</td>\n",
       "      <td>MEX</td>\n",
       "    </tr>\n",
       "    <tr>\n",
       "      <th>Group 4</th>\n",
       "      <td>1930.0</td>\n",
       "      <td>13 Jul 1930 - 15:00</td>\n",
       "      <td>Parque Central</td>\n",
       "      <td>Montevideo</td>\n",
       "      <td>USA</td>\n",
       "      <td>3.0</td>\n",
       "      <td>0.0</td>\n",
       "      <td>Belgium</td>\n",
       "      <td></td>\n",
       "      <td>18346.0</td>\n",
       "      <td>2.0</td>\n",
       "      <td>0.0</td>\n",
       "      <td>MACIAS Jose (ARG)</td>\n",
       "      <td>MATEUCCI Francisco (URU)</td>\n",
       "      <td>WARNKEN Alberto (CHI)</td>\n",
       "      <td>201.0</td>\n",
       "      <td>1090.0</td>\n",
       "      <td>USA</td>\n",
       "      <td>BEL</td>\n",
       "    </tr>\n",
       "    <tr>\n",
       "      <th>Group 2</th>\n",
       "      <td>1930.0</td>\n",
       "      <td>14 Jul 1930 - 12:45</td>\n",
       "      <td>Parque Central</td>\n",
       "      <td>Montevideo</td>\n",
       "      <td>Yugoslavia</td>\n",
       "      <td>2.0</td>\n",
       "      <td>1.0</td>\n",
       "      <td>Brazil</td>\n",
       "      <td></td>\n",
       "      <td>24059.0</td>\n",
       "      <td>2.0</td>\n",
       "      <td>0.0</td>\n",
       "      <td>TEJADA Anibal (URU)</td>\n",
       "      <td>VALLARINO Ricardo (URU)</td>\n",
       "      <td>BALWAY Thomas (FRA)</td>\n",
       "      <td>201.0</td>\n",
       "      <td>1093.0</td>\n",
       "      <td>YUG</td>\n",
       "      <td>BRA</td>\n",
       "    </tr>\n",
       "    <tr>\n",
       "      <th>Group 3</th>\n",
       "      <td>1930.0</td>\n",
       "      <td>14 Jul 1930 - 14:50</td>\n",
       "      <td>Pocitos</td>\n",
       "      <td>Montevideo</td>\n",
       "      <td>Romania</td>\n",
       "      <td>3.0</td>\n",
       "      <td>1.0</td>\n",
       "      <td>Peru</td>\n",
       "      <td></td>\n",
       "      <td>2549.0</td>\n",
       "      <td>1.0</td>\n",
       "      <td>0.0</td>\n",
       "      <td>WARNKEN Alberto (CHI)</td>\n",
       "      <td>LANGENUS Jean (BEL)</td>\n",
       "      <td>MATEUCCI Francisco (URU)</td>\n",
       "      <td>201.0</td>\n",
       "      <td>1098.0</td>\n",
       "      <td>ROU</td>\n",
       "      <td>PER</td>\n",
       "    </tr>\n",
       "    <tr>\n",
       "      <th>Group 1</th>\n",
       "      <td>1930.0</td>\n",
       "      <td>15 Jul 1930 - 16:00</td>\n",
       "      <td>Parque Central</td>\n",
       "      <td>Montevideo</td>\n",
       "      <td>Argentina</td>\n",
       "      <td>1.0</td>\n",
       "      <td>0.0</td>\n",
       "      <td>France</td>\n",
       "      <td></td>\n",
       "      <td>23409.0</td>\n",
       "      <td>0.0</td>\n",
       "      <td>0.0</td>\n",
       "      <td>REGO Gilberto (BRA)</td>\n",
       "      <td>SAUCEDO Ulises (BOL)</td>\n",
       "      <td>RADULESCU Constantin (ROU)</td>\n",
       "      <td>201.0</td>\n",
       "      <td>1085.0</td>\n",
       "      <td>ARG</td>\n",
       "      <td>FRA</td>\n",
       "    </tr>\n",
       "  </tbody>\n",
       "</table>\n",
       "</div>"
      ],
      "text/plain": [
       "           Year              Datetime         Stadium         City  \\\n",
       "Stage                                                                \n",
       "Group 1  1930.0  13 Jul 1930 - 15:00          Pocitos  Montevideo    \n",
       "Group 4  1930.0  13 Jul 1930 - 15:00   Parque Central  Montevideo    \n",
       "Group 2  1930.0  14 Jul 1930 - 12:45   Parque Central  Montevideo    \n",
       "Group 3  1930.0  14 Jul 1930 - 14:50          Pocitos  Montevideo    \n",
       "Group 1  1930.0  15 Jul 1930 - 16:00   Parque Central  Montevideo    \n",
       "\n",
       "        Home Team Name  Home Team Goals  Away Team Goals Away Team Name  \\\n",
       "Stage                                                                     \n",
       "Group 1         France              4.0              1.0         Mexico   \n",
       "Group 4            USA              3.0              0.0        Belgium   \n",
       "Group 2     Yugoslavia              2.0              1.0         Brazil   \n",
       "Group 3        Romania              3.0              1.0           Peru   \n",
       "Group 1      Argentina              1.0              0.0         France   \n",
       "\n",
       "        Win conditions  Attendance  Half-time Home Goals  \\\n",
       "Stage                                                      \n",
       "Group 1                     4444.0                   3.0   \n",
       "Group 4                    18346.0                   2.0   \n",
       "Group 2                    24059.0                   2.0   \n",
       "Group 3                     2549.0                   1.0   \n",
       "Group 1                    23409.0                   0.0   \n",
       "\n",
       "         Half-time Away Goals                 Referee  \\\n",
       "Stage                                                   \n",
       "Group 1                   0.0  LOMBARDI Domingo (URU)   \n",
       "Group 4                   0.0       MACIAS Jose (ARG)   \n",
       "Group 2                   0.0     TEJADA Anibal (URU)   \n",
       "Group 3                   0.0   WARNKEN Alberto (CHI)   \n",
       "Group 1                   0.0     REGO Gilberto (BRA)   \n",
       "\n",
       "                      Assistant 1                 Assistant 2  RoundID  \\\n",
       "Stage                                                                    \n",
       "Group 1     CRISTOPHE Henry (BEL)         REGO Gilberto (BRA)    201.0   \n",
       "Group 4  MATEUCCI Francisco (URU)       WARNKEN Alberto (CHI)    201.0   \n",
       "Group 2   VALLARINO Ricardo (URU)         BALWAY Thomas (FRA)    201.0   \n",
       "Group 3       LANGENUS Jean (BEL)    MATEUCCI Francisco (URU)    201.0   \n",
       "Group 1      SAUCEDO Ulises (BOL)  RADULESCU Constantin (ROU)    201.0   \n",
       "\n",
       "         MatchID Home Team Initials Away Team Initials  \n",
       "Stage                                                   \n",
       "Group 1   1096.0                FRA                MEX  \n",
       "Group 4   1090.0                USA                BEL  \n",
       "Group 2   1093.0                YUG                BRA  \n",
       "Group 3   1098.0                ROU                PER  \n",
       "Group 1   1085.0                ARG                FRA  "
      ]
     },
     "execution_count": 2,
     "metadata": {},
     "output_type": "execute_result"
    }
   ],
   "source": [
    "#read the load csv file\n",
    "import pandas as pd\n",
    "df = pd.read_csv(ds_files, index_col=2)\n",
    "df.head(5)"
   ]
  },
  {
   "cell_type": "code",
   "execution_count": 3,
   "id": "8f0e8b76-9722-4bdb-b696-792caf499106",
   "metadata": {
    "tags": []
   },
   "outputs": [
    {
     "name": "stderr",
     "output_type": "stream",
     "text": [
      "Found cached dataset generator (/home/abitondev/.cache/huggingface/datasets/generator/default-3ba02ee2d81ebbea/0.0.0)\n"
     ]
    }
   ],
   "source": [
    "#generating own dataset\n",
    "from datasets import Dataset\n",
    "def my_gen():\n",
    "    for i in range(2, 4):\n",
    "        yield {\"abiton, Tine, Travis, Tyris, Cherise\": i}\n",
    "dataset = Dataset.from_generator(my_gen)"
   ]
  },
  {
   "cell_type": "code",
   "execution_count": 4,
   "id": "bef9645f-82d9-45ec-ad4b-a646cf1bff02",
   "metadata": {
    "tags": []
   },
   "outputs": [
    {
     "data": {
      "text/plain": [
       "Dataset({\n",
       "    features: ['abiton, Tine, Travis, Tyris, Cherise'],\n",
       "    num_rows: 2\n",
       "})"
      ]
     },
     "execution_count": 4,
     "metadata": {},
     "output_type": "execute_result"
    }
   ],
   "source": [
    "dataset"
   ]
  },
  {
   "cell_type": "code",
   "execution_count": null,
   "id": "238104db-fd40-406f-8a42-958a429b2927",
   "metadata": {},
   "outputs": [],
   "source": [
    "#download and extract a remote file\n",
    "# !wget \"https://archive.ics.uci.edu/ml/machine-learning-databases/00462/drugsCom_raw.zip\"\n",
    "# !unzip drugsCom_raw.zip"
   ]
  },
  {
   "cell_type": "code",
   "execution_count": null,
   "id": "215de8db-3728-40de-bf17-a206f7aff3df",
   "metadata": {
    "tags": []
   },
   "outputs": [],
   "source": [
    "from datasets import load_dataset\n",
    "\n",
    "df = {'train' : './drugsComTrain_raw.tsv', 'test':'./drugsComTest_raw.tsv'}"
   ]
  },
  {
   "cell_type": "code",
   "execution_count": null,
   "id": "b08b54c4-e77a-4df4-8894-2d86dee6161c",
   "metadata": {
    "tags": []
   },
   "outputs": [],
   "source": [
    "df_drug = load_dataset('csv', data_files=df, delimiter='\\t')"
   ]
  },
  {
   "cell_type": "code",
   "execution_count": null,
   "id": "687624b7-25d8-4a54-ba2e-56220b3c9a9c",
   "metadata": {
    "tags": []
   },
   "outputs": [],
   "source": [
    "df_drug"
   ]
  },
  {
   "cell_type": "code",
   "execution_count": null,
   "id": "acd9fa13-8c78-4c75-b983-5726fd370bfc",
   "metadata": {
    "tags": []
   },
   "outputs": [],
   "source": [
    "#peep in few examples\n",
    "#random selecting range of 500 within dataset\n",
    "#seed is num of reviews \n",
    "df_sample = df_drug['train'].shuffle(seed=42).select(range(1000))"
   ]
  },
  {
   "cell_type": "code",
   "execution_count": null,
   "id": "cb28c941-bbb1-4dc4-9c8b-e0b90cd0c0a4",
   "metadata": {
    "tags": []
   },
   "outputs": [],
   "source": [
    "#num of samples\n",
    "df_sample[:3]"
   ]
  },
  {
   "cell_type": "code",
   "execution_count": null,
   "id": "756650c2-f984-4804-af4a-4486d00cea56",
   "metadata": {
    "tags": []
   },
   "outputs": [],
   "source": [
    "#unique() - checks if no of ID matches with rows\n",
    "for split in df_drug.keys():\n",
    "    assert len(df_drug[split]) == len(df_drug[split].unique(\"patientID\"))"
   ]
  },
  {
   "cell_type": "code",
   "execution_count": null,
   "id": "c2f82a72-77f4-45e8-93e2-0a56fe1800f8",
   "metadata": {
    "tags": []
   },
   "outputs": [],
   "source": [
    "#rename the unnamed col\n",
    "# df_drug = df_drug.rename_column(original_column_name='Unnamed: 0', new_column_name='Patient_ID')\n"
   ]
  },
  {
   "cell_type": "code",
   "execution_count": null,
   "id": "c3c341e1-a1fb-467e-a495-e683d559e0e0",
   "metadata": {
    "tags": []
   },
   "outputs": [],
   "source": [
    "def filter_nones(x):\n",
    "    return x[\"condition\"] is not None"
   ]
  },
  {
   "cell_type": "code",
   "execution_count": null,
   "id": "8aff0125-81f2-4c34-8f2b-2f8041bcc62b",
   "metadata": {
    "tags": []
   },
   "outputs": [],
   "source": [
    " #using lambda func to eliminate None entries in 'condition' field\n",
    "df_drug = df_drug.filter(lambda x : x['condition'] is not None)"
   ]
  },
  {
   "cell_type": "code",
   "execution_count": null,
   "id": "94166896-796f-409f-80bc-8d8737784adf",
   "metadata": {
    "tags": []
   },
   "outputs": [],
   "source": [
    "#lowercase\n",
    "df_drug.map(lowercase_condition)\n",
    "df_drug"
   ]
  },
  {
   "cell_type": "code",
   "execution_count": null,
   "id": "5cee8ad0-f355-483c-a930-8ca3205289a6",
   "metadata": {
    "tags": []
   },
   "outputs": [],
   "source": [
    "(lambda length,height,width :length * height * width)(5,2,2) #a small & anonymous func used but not  declared and thrown away after use"
   ]
  },
  {
   "cell_type": "code",
   "execution_count": null,
   "id": "ceb50a62-6b99-4b1d-971a-3ce4a4a64e5e",
   "metadata": {
    "tags": []
   },
   "outputs": [],
   "source": [
    "#rename a column\n",
    "# df_drug = df_drug.rename_column(original_column_name='Patient_ID', new_column_name='patientID')"
   ]
  },
  {
   "cell_type": "code",
   "execution_count": null,
   "id": "21ea333d-eb80-49f2-bd1e-887aec78b297",
   "metadata": {
    "tags": []
   },
   "outputs": [],
   "source": [
    "df_drug['train']['condition'][:5]"
   ]
  },
  {
   "cell_type": "code",
   "execution_count": null,
   "id": "8d76469c-d460-4664-9f15-d09d047a7f32",
   "metadata": {
    "tags": []
   },
   "outputs": [],
   "source": [
    "df_drug['train']['review'][:2]"
   ]
  },
  {
   "cell_type": "code",
   "execution_count": null,
   "id": "accc1e77-439a-4861-8412-c2bf3f2b7e00",
   "metadata": {
    "tags": []
   },
   "outputs": [],
   "source": [
    "#counts length of every review \n",
    "def compute_review_length(example):\n",
    "    return {\"review_length\": len(example[\"review\"].split())}"
   ]
  },
  {
   "cell_type": "code",
   "execution_count": null,
   "id": "8535b0ab-9bae-4131-96a6-1f58993eddcf",
   "metadata": {
    "tags": []
   },
   "outputs": [],
   "source": [
    "df_drug = df_drug.map(compute_review_length) #map() applies the func to items in the dataset"
   ]
  },
  {
   "cell_type": "code",
   "execution_count": null,
   "id": "032de3be-ad95-45fd-8d99-91eab191a715",
   "metadata": {
    "tags": []
   },
   "outputs": [],
   "source": [
    "df_drug['train'][:3] # 3 reviews in dataset"
   ]
  },
  {
   "cell_type": "code",
   "execution_count": null,
   "id": "b2cde5ce-4720-4de4-acd3-75beaf764a00",
   "metadata": {
    "tags": []
   },
   "outputs": [],
   "source": [
    "df_drug['train'][0] #first review by index"
   ]
  },
  {
   "cell_type": "code",
   "execution_count": null,
   "id": "7a4f4f8a-e7de-4562-ba80-74dfb3998a81",
   "metadata": {
    "tags": []
   },
   "outputs": [],
   "source": [
    "#filter() only for a selected using lambda\n",
    "df_drug = df_drug.filter(lambda x : x['review_length'] > 10)\n",
    "df_drug.num_rows"
   ]
  },
  {
   "cell_type": "code",
   "execution_count": null,
   "id": "f01175cc-0869-4071-88c6-c12488dec5f1",
   "metadata": {
    "tags": []
   },
   "outputs": [],
   "source": [
    "import html\n",
    "\n",
    "text = \"I&#039;m a transformer called BERT\"\n",
    "html.unescape(text)"
   ]
  },
  {
   "cell_type": "code",
   "execution_count": null,
   "id": "938cfe43-8374-4557-9c5f-40af67b9fb2c",
   "metadata": {
    "tags": []
   },
   "outputs": [],
   "source": [
    "df_drug = df_drug.map(lambda x : {'review' : html.unescape(x['review'])})\n",
    "df_drug"
   ]
  },
  {
   "cell_type": "code",
   "execution_count": null,
   "id": "88b0fb61-30b1-44ba-b6fa-50bb7c70effb",
   "metadata": {
    "tags": []
   },
   "outputs": [],
   "source": [
    "new_drug_dataset = df_drug.map(\n",
    "    lambda x: {\"review\": [html.unescape(o) for o in x[\"review\"]]}, batched=True\n",
    ")\n",
    "new_drug_dataset"
   ]
  },
  {
   "cell_type": "code",
   "execution_count": null,
   "id": "6cadac2b-790c-41ba-a1b3-a8894b974a94",
   "metadata": {
    "tags": []
   },
   "outputs": [],
   "source": [
    "from transformers import AutoTokenizer\n",
    "\n",
    "tokenizer = AutoTokenizer.from_pretrained(\"bert-base-cased\")\n",
    "\n",
    "\n",
    "def tokenize_function(examples):\n",
    "    return tokenizer(examples[\"review\"], truncation=True)"
   ]
  },
  {
   "cell_type": "code",
   "execution_count": null,
   "id": "21c7cb7d-1382-4809-811c-e03d6e22197a",
   "metadata": {
    "tags": []
   },
   "outputs": [],
   "source": [
    "#%time - measure time of performance\n",
    "%time tokenized_dataset = df_drug.map(tokenize_function, batched=True)"
   ]
  },
  {
   "cell_type": "code",
   "execution_count": null,
   "id": "540d752b-23a0-4628-89ec-af5e4466544c",
   "metadata": {
    "tags": []
   },
   "outputs": [],
   "source": [
    "def tokenize_and_split(examples):\n",
    "    return tokenizer(\n",
    "        examples[\"review\"],\n",
    "        truncation=True,\n",
    "        max_length=128,\n",
    "        return_overflowing_tokens=True,\n",
    "    )"
   ]
  },
  {
   "cell_type": "code",
   "execution_count": null,
   "id": "92309cac-8b14-48b9-9617-a8fbe1f7cdf9",
   "metadata": {
    "tags": []
   },
   "outputs": [],
   "source": [
    "result = tokenize_and_split(df_drug[\"train\"][0])\n",
    "[len(inp) for inp in result[\"input_ids\"]]"
   ]
  },
  {
   "cell_type": "code",
   "execution_count": null,
   "id": "85952067-1274-484e-a4c8-e1fe47e77a70",
   "metadata": {
    "tags": []
   },
   "outputs": [],
   "source": [
    "tokenized_dataset = df_drug.map(tokenize_function, batched=True)"
   ]
  },
  {
   "cell_type": "code",
   "execution_count": null,
   "id": "eb1f2a84-cd4a-4e80-a256-b07eef8fd969",
   "metadata": {
    "tags": []
   },
   "outputs": [],
   "source": [
    "tokenized_dataset"
   ]
  },
  {
   "cell_type": "code",
   "execution_count": null,
   "id": "64363463-a831-4e74-a2c1-077c17081939",
   "metadata": {
    "tags": []
   },
   "outputs": [],
   "source": [
    "#making the coulmns equal to the train set of 1000 removing new features\n",
    "tokenized_dataset = df_drug.map(tokenize_and_split, remove_columns=df_drug['train'].column_names, batched=True)\n",
    "tokenized_dataset"
   ]
  },
  {
   "cell_type": "code",
   "execution_count": null,
   "id": "82aa0b95-6b04-40bc-858d-b6abe19c39a4",
   "metadata": {},
   "outputs": [],
   "source": [
    "from datasets import load_dataset\n",
    "\n",
    "ds = './drugsComTest_raw.tsv'\n",
    "df = load_dataset('csv', data_files=ds)\n",
    "df"
   ]
  },
  {
   "cell_type": "code",
   "execution_count": null,
   "id": "f75b6be0-d4b5-4f6b-b57b-1c3e0b598062",
   "metadata": {},
   "outputs": [],
   "source": []
  }
 ],
 "metadata": {
  "kernelspec": {
   "display_name": "Python 3 (ipykernel)",
   "language": "python",
   "name": "python3"
  },
  "language_info": {
   "codemirror_mode": {
    "name": "ipython",
    "version": 3
   },
   "file_extension": ".py",
   "mimetype": "text/x-python",
   "name": "python",
   "nbconvert_exporter": "python",
   "pygments_lexer": "ipython3",
   "version": "3.11.5"
  }
 },
 "nbformat": 4,
 "nbformat_minor": 5
}
