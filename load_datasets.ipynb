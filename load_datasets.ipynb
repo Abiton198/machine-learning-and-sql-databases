{
 "cells": [
  {
   "cell_type": "code",
   "execution_count": 3,
   "id": "441cdee2-9a03-44ef-8ace-d88560c191e4",
   "metadata": {
    "tags": []
   },
   "outputs": [
    {
     "name": "stdout",
     "output_type": "stream",
     "text": [
      "Downloading and preparing dataset csv/default to /home/abitondev/.cache/huggingface/datasets/csv/default-77679b28e66bbff5/0.0.0/6954658bab30a358235fa864b05cf819af0e179325c740e4bc853bcc7ec513e1...\n"
     ]
    },
    {
     "data": {
      "application/vnd.jupyter.widget-view+json": {
       "model_id": "a6a122611c4f413fa9c490680919032e",
       "version_major": 2,
       "version_minor": 0
      },
      "text/plain": [
       "Downloading data files:   0%|          | 0/1 [00:00<?, ?it/s]"
      ]
     },
     "metadata": {},
     "output_type": "display_data"
    },
    {
     "data": {
      "application/vnd.jupyter.widget-view+json": {
       "model_id": "b439aeb7f45e4e399a8ddf2cb7a6a532",
       "version_major": 2,
       "version_minor": 0
      },
      "text/plain": [
       "Extracting data files:   0%|          | 0/1 [00:00<?, ?it/s]"
      ]
     },
     "metadata": {},
     "output_type": "display_data"
    },
    {
     "data": {
      "application/vnd.jupyter.widget-view+json": {
       "model_id": "",
       "version_major": 2,
       "version_minor": 0
      },
      "text/plain": [
       "Generating train split: 0 examples [00:00, ? examples/s]"
      ]
     },
     "metadata": {},
     "output_type": "display_data"
    },
    {
     "name": "stdout",
     "output_type": "stream",
     "text": [
      "Dataset csv downloaded and prepared to /home/abitondev/.cache/huggingface/datasets/csv/default-77679b28e66bbff5/0.0.0/6954658bab30a358235fa864b05cf819af0e179325c740e4bc853bcc7ec513e1. Subsequent calls will reuse this data.\n"
     ]
    },
    {
     "data": {
      "application/vnd.jupyter.widget-view+json": {
       "model_id": "472d9558720d49cb8795e54f0f3db4a9",
       "version_major": 2,
       "version_minor": 0
      },
      "text/plain": [
       "  0%|          | 0/1 [00:00<?, ?it/s]"
      ]
     },
     "metadata": {},
     "output_type": "display_data"
    },
    {
     "data": {
      "text/plain": [
       "DatasetDict({\n",
       "    train: Dataset({\n",
       "        features: ['Year', 'Datetime', 'Stage', 'Stadium', 'City', 'Home Team Name', 'Home Team Goals', 'Away Team Goals', 'Away Team Name', 'Win conditions', 'Attendance', 'Half-time Home Goals', 'Half-time Away Goals', 'Referee', 'Assistant 1', 'Assistant 2', 'RoundID', 'MatchID', 'Home Team Initials', 'Away Team Initials'],\n",
       "        num_rows: 4572\n",
       "    })\n",
       "})"
      ]
     },
     "execution_count": 3,
     "metadata": {},
     "output_type": "execute_result"
    }
   ],
   "source": [
    "#local dataset \n",
    "from datasets import load_dataset\n",
    "\n",
    "ds_files = './WorldCupMatches.csv'\n",
    "ds = load_dataset('csv', data_files = ds_files)\n",
    "ds"
   ]
  },
  {
   "cell_type": "code",
   "execution_count": 10,
   "id": "585043c4-ba2f-4fdc-b015-d8315b2c791a",
   "metadata": {
    "tags": []
   },
   "outputs": [
    {
     "data": {
      "text/html": [
       "<div>\n",
       "<style scoped>\n",
       "    .dataframe tbody tr th:only-of-type {\n",
       "        vertical-align: middle;\n",
       "    }\n",
       "\n",
       "    .dataframe tbody tr th {\n",
       "        vertical-align: top;\n",
       "    }\n",
       "\n",
       "    .dataframe thead th {\n",
       "        text-align: right;\n",
       "    }\n",
       "</style>\n",
       "<table border=\"1\" class=\"dataframe\">\n",
       "  <thead>\n",
       "    <tr style=\"text-align: right;\">\n",
       "      <th></th>\n",
       "      <th>Year</th>\n",
       "      <th>Datetime</th>\n",
       "      <th>Stadium</th>\n",
       "      <th>City</th>\n",
       "      <th>Home Team Name</th>\n",
       "      <th>Home Team Goals</th>\n",
       "      <th>Away Team Goals</th>\n",
       "      <th>Away Team Name</th>\n",
       "      <th>Win conditions</th>\n",
       "      <th>Attendance</th>\n",
       "      <th>Half-time Home Goals</th>\n",
       "      <th>Half-time Away Goals</th>\n",
       "      <th>Referee</th>\n",
       "      <th>Assistant 1</th>\n",
       "      <th>Assistant 2</th>\n",
       "      <th>RoundID</th>\n",
       "      <th>MatchID</th>\n",
       "      <th>Home Team Initials</th>\n",
       "      <th>Away Team Initials</th>\n",
       "    </tr>\n",
       "    <tr>\n",
       "      <th>Stage</th>\n",
       "      <th></th>\n",
       "      <th></th>\n",
       "      <th></th>\n",
       "      <th></th>\n",
       "      <th></th>\n",
       "      <th></th>\n",
       "      <th></th>\n",
       "      <th></th>\n",
       "      <th></th>\n",
       "      <th></th>\n",
       "      <th></th>\n",
       "      <th></th>\n",
       "      <th></th>\n",
       "      <th></th>\n",
       "      <th></th>\n",
       "      <th></th>\n",
       "      <th></th>\n",
       "      <th></th>\n",
       "      <th></th>\n",
       "    </tr>\n",
       "  </thead>\n",
       "  <tbody>\n",
       "    <tr>\n",
       "      <th>Group 1</th>\n",
       "      <td>1930.0</td>\n",
       "      <td>13 Jul 1930 - 15:00</td>\n",
       "      <td>Pocitos</td>\n",
       "      <td>Montevideo</td>\n",
       "      <td>France</td>\n",
       "      <td>4.0</td>\n",
       "      <td>1.0</td>\n",
       "      <td>Mexico</td>\n",
       "      <td></td>\n",
       "      <td>4444.0</td>\n",
       "      <td>3.0</td>\n",
       "      <td>0.0</td>\n",
       "      <td>LOMBARDI Domingo (URU)</td>\n",
       "      <td>CRISTOPHE Henry (BEL)</td>\n",
       "      <td>REGO Gilberto (BRA)</td>\n",
       "      <td>201.0</td>\n",
       "      <td>1096.0</td>\n",
       "      <td>FRA</td>\n",
       "      <td>MEX</td>\n",
       "    </tr>\n",
       "    <tr>\n",
       "      <th>Group 4</th>\n",
       "      <td>1930.0</td>\n",
       "      <td>13 Jul 1930 - 15:00</td>\n",
       "      <td>Parque Central</td>\n",
       "      <td>Montevideo</td>\n",
       "      <td>USA</td>\n",
       "      <td>3.0</td>\n",
       "      <td>0.0</td>\n",
       "      <td>Belgium</td>\n",
       "      <td></td>\n",
       "      <td>18346.0</td>\n",
       "      <td>2.0</td>\n",
       "      <td>0.0</td>\n",
       "      <td>MACIAS Jose (ARG)</td>\n",
       "      <td>MATEUCCI Francisco (URU)</td>\n",
       "      <td>WARNKEN Alberto (CHI)</td>\n",
       "      <td>201.0</td>\n",
       "      <td>1090.0</td>\n",
       "      <td>USA</td>\n",
       "      <td>BEL</td>\n",
       "    </tr>\n",
       "    <tr>\n",
       "      <th>Group 2</th>\n",
       "      <td>1930.0</td>\n",
       "      <td>14 Jul 1930 - 12:45</td>\n",
       "      <td>Parque Central</td>\n",
       "      <td>Montevideo</td>\n",
       "      <td>Yugoslavia</td>\n",
       "      <td>2.0</td>\n",
       "      <td>1.0</td>\n",
       "      <td>Brazil</td>\n",
       "      <td></td>\n",
       "      <td>24059.0</td>\n",
       "      <td>2.0</td>\n",
       "      <td>0.0</td>\n",
       "      <td>TEJADA Anibal (URU)</td>\n",
       "      <td>VALLARINO Ricardo (URU)</td>\n",
       "      <td>BALWAY Thomas (FRA)</td>\n",
       "      <td>201.0</td>\n",
       "      <td>1093.0</td>\n",
       "      <td>YUG</td>\n",
       "      <td>BRA</td>\n",
       "    </tr>\n",
       "    <tr>\n",
       "      <th>Group 3</th>\n",
       "      <td>1930.0</td>\n",
       "      <td>14 Jul 1930 - 14:50</td>\n",
       "      <td>Pocitos</td>\n",
       "      <td>Montevideo</td>\n",
       "      <td>Romania</td>\n",
       "      <td>3.0</td>\n",
       "      <td>1.0</td>\n",
       "      <td>Peru</td>\n",
       "      <td></td>\n",
       "      <td>2549.0</td>\n",
       "      <td>1.0</td>\n",
       "      <td>0.0</td>\n",
       "      <td>WARNKEN Alberto (CHI)</td>\n",
       "      <td>LANGENUS Jean (BEL)</td>\n",
       "      <td>MATEUCCI Francisco (URU)</td>\n",
       "      <td>201.0</td>\n",
       "      <td>1098.0</td>\n",
       "      <td>ROU</td>\n",
       "      <td>PER</td>\n",
       "    </tr>\n",
       "    <tr>\n",
       "      <th>Group 1</th>\n",
       "      <td>1930.0</td>\n",
       "      <td>15 Jul 1930 - 16:00</td>\n",
       "      <td>Parque Central</td>\n",
       "      <td>Montevideo</td>\n",
       "      <td>Argentina</td>\n",
       "      <td>1.0</td>\n",
       "      <td>0.0</td>\n",
       "      <td>France</td>\n",
       "      <td></td>\n",
       "      <td>23409.0</td>\n",
       "      <td>0.0</td>\n",
       "      <td>0.0</td>\n",
       "      <td>REGO Gilberto (BRA)</td>\n",
       "      <td>SAUCEDO Ulises (BOL)</td>\n",
       "      <td>RADULESCU Constantin (ROU)</td>\n",
       "      <td>201.0</td>\n",
       "      <td>1085.0</td>\n",
       "      <td>ARG</td>\n",
       "      <td>FRA</td>\n",
       "    </tr>\n",
       "  </tbody>\n",
       "</table>\n",
       "</div>"
      ],
      "text/plain": [
       "           Year              Datetime         Stadium         City  \\\n",
       "Stage                                                                \n",
       "Group 1  1930.0  13 Jul 1930 - 15:00          Pocitos  Montevideo    \n",
       "Group 4  1930.0  13 Jul 1930 - 15:00   Parque Central  Montevideo    \n",
       "Group 2  1930.0  14 Jul 1930 - 12:45   Parque Central  Montevideo    \n",
       "Group 3  1930.0  14 Jul 1930 - 14:50          Pocitos  Montevideo    \n",
       "Group 1  1930.0  15 Jul 1930 - 16:00   Parque Central  Montevideo    \n",
       "\n",
       "        Home Team Name  Home Team Goals  Away Team Goals Away Team Name  \\\n",
       "Stage                                                                     \n",
       "Group 1         France              4.0              1.0         Mexico   \n",
       "Group 4            USA              3.0              0.0        Belgium   \n",
       "Group 2     Yugoslavia              2.0              1.0         Brazil   \n",
       "Group 3        Romania              3.0              1.0           Peru   \n",
       "Group 1      Argentina              1.0              0.0         France   \n",
       "\n",
       "        Win conditions  Attendance  Half-time Home Goals  \\\n",
       "Stage                                                      \n",
       "Group 1                     4444.0                   3.0   \n",
       "Group 4                    18346.0                   2.0   \n",
       "Group 2                    24059.0                   2.0   \n",
       "Group 3                     2549.0                   1.0   \n",
       "Group 1                    23409.0                   0.0   \n",
       "\n",
       "         Half-time Away Goals                 Referee  \\\n",
       "Stage                                                   \n",
       "Group 1                   0.0  LOMBARDI Domingo (URU)   \n",
       "Group 4                   0.0       MACIAS Jose (ARG)   \n",
       "Group 2                   0.0     TEJADA Anibal (URU)   \n",
       "Group 3                   0.0   WARNKEN Alberto (CHI)   \n",
       "Group 1                   0.0     REGO Gilberto (BRA)   \n",
       "\n",
       "                      Assistant 1                 Assistant 2  RoundID  \\\n",
       "Stage                                                                    \n",
       "Group 1     CRISTOPHE Henry (BEL)         REGO Gilberto (BRA)    201.0   \n",
       "Group 4  MATEUCCI Francisco (URU)       WARNKEN Alberto (CHI)    201.0   \n",
       "Group 2   VALLARINO Ricardo (URU)         BALWAY Thomas (FRA)    201.0   \n",
       "Group 3       LANGENUS Jean (BEL)    MATEUCCI Francisco (URU)    201.0   \n",
       "Group 1      SAUCEDO Ulises (BOL)  RADULESCU Constantin (ROU)    201.0   \n",
       "\n",
       "         MatchID Home Team Initials Away Team Initials  \n",
       "Stage                                                   \n",
       "Group 1   1096.0                FRA                MEX  \n",
       "Group 4   1090.0                USA                BEL  \n",
       "Group 2   1093.0                YUG                BRA  \n",
       "Group 3   1098.0                ROU                PER  \n",
       "Group 1   1085.0                ARG                FRA  "
      ]
     },
     "execution_count": 10,
     "metadata": {},
     "output_type": "execute_result"
    }
   ],
   "source": [
    "#read the load csv file\n",
    "import pandas as pd\n",
    "df = pd.read_csv(ds_files, index_col=2)\n",
    "df.head(5)"
   ]
  },
  {
   "cell_type": "code",
   "execution_count": 6,
   "id": "8f0e8b76-9722-4bdb-b696-792caf499106",
   "metadata": {
    "tags": []
   },
   "outputs": [
    {
     "name": "stdout",
     "output_type": "stream",
     "text": [
      "Downloading and preparing dataset generator/default to /home/abitondev/.cache/huggingface/datasets/generator/default-3ba02ee2d81ebbea/0.0.0...\n"
     ]
    },
    {
     "data": {
      "application/vnd.jupyter.widget-view+json": {
       "model_id": "",
       "version_major": 2,
       "version_minor": 0
      },
      "text/plain": [
       "Generating train split: 0 examples [00:00, ? examples/s]"
      ]
     },
     "metadata": {},
     "output_type": "display_data"
    },
    {
     "name": "stdout",
     "output_type": "stream",
     "text": [
      "Dataset generator downloaded and prepared to /home/abitondev/.cache/huggingface/datasets/generator/default-3ba02ee2d81ebbea/0.0.0. Subsequent calls will reuse this data.\n"
     ]
    }
   ],
   "source": [
    "#generating own dataset\n",
    "from datasets import Dataset\n",
    "def my_gen():\n",
    "    for i in range(2, 4):\n",
    "        yield {\"abiton, Tine, Travis, Tyris, Cherise\": i}\n",
    "dataset = Dataset.from_generator(my_gen)"
   ]
  },
  {
   "cell_type": "code",
   "execution_count": 7,
   "id": "bef9645f-82d9-45ec-ad4b-a646cf1bff02",
   "metadata": {
    "tags": []
   },
   "outputs": [
    {
     "data": {
      "text/plain": [
       "Dataset({\n",
       "    features: ['abiton, Tine, Travis, Tyris, Cherise'],\n",
       "    num_rows: 2\n",
       "})"
      ]
     },
     "execution_count": 7,
     "metadata": {},
     "output_type": "execute_result"
    }
   ],
   "source": [
    "dataset"
   ]
  },
  {
   "cell_type": "code",
   "execution_count": 8,
   "id": "238104db-fd40-406f-8a42-958a429b2927",
   "metadata": {},
   "outputs": [
    {
     "name": "stdout",
     "output_type": "stream",
     "text": [
      "--2024-02-13 04:28:55--  https://archive.ics.uci.edu/ml/machine-learning-databases/00462/drugsCom_raw.zip\n",
      "Resolving archive.ics.uci.edu (archive.ics.uci.edu)... 128.195.10.252\n",
      "Connecting to archive.ics.uci.edu (archive.ics.uci.edu)|128.195.10.252|:443... connected.\n",
      "HTTP request sent, awaiting response... 200 OK\n",
      "Length: unspecified\n",
      "Saving to: ‘drugsCom_raw.zip’\n",
      "\n",
      "drugsCom_raw.zip        [       <=>          ]  41.00M   115KB/s    in 91s     \n",
      "\n",
      "2024-02-13 04:30:29 (460 KB/s) - ‘drugsCom_raw.zip’ saved [42989872]\n",
      "\n",
      "Archive:  drugsCom_raw.zip\n",
      "  inflating: drugsComTest_raw.tsv    \n",
      "  inflating: drugsComTrain_raw.tsv   \n"
     ]
    }
   ],
   "source": [
    "#download and extract a remote file\n",
    "!wget \"https://archive.ics.uci.edu/ml/machine-learning-databases/00462/drugsCom_raw.zip\"\n",
    "!unzip drugsCom_raw.zip"
   ]
  },
  {
   "cell_type": "code",
   "execution_count": 18,
   "id": "215de8db-3728-40de-bf17-a206f7aff3df",
   "metadata": {
    "tags": []
   },
   "outputs": [],
   "source": [
    "from datasets import load_dataset\n",
    "df = {'train' : 'drugsComTrain_raw.tsv', 'test':'drugsComTest_raw.tsv'}"
   ]
  },
  {
   "cell_type": "code",
   "execution_count": 50,
   "id": "b08b54c4-e77a-4df4-8894-2d86dee6161c",
   "metadata": {
    "tags": []
   },
   "outputs": [
    {
     "name": "stderr",
     "output_type": "stream",
     "text": [
      "Found cached dataset csv (/home/abitondev/.cache/huggingface/datasets/csv/default-e65c036f3d053161/0.0.0/6954658bab30a358235fa864b05cf819af0e179325c740e4bc853bcc7ec513e1)\n"
     ]
    },
    {
     "data": {
      "application/vnd.jupyter.widget-view+json": {
       "model_id": "f72eeffed85b43b2a3e63162833a0d75",
       "version_major": 2,
       "version_minor": 0
      },
      "text/plain": [
       "  0%|          | 0/2 [00:00<?, ?it/s]"
      ]
     },
     "metadata": {},
     "output_type": "display_data"
    }
   ],
   "source": [
    "df_drug = load_dataset('csv', data_files=df, delimiter='\\t')"
   ]
  },
  {
   "cell_type": "code",
   "execution_count": 92,
   "id": "687624b7-25d8-4a54-ba2e-56220b3c9a9c",
   "metadata": {
    "tags": []
   },
   "outputs": [
    {
     "data": {
      "text/plain": [
       "DatasetDict({\n",
       "    train: Dataset({\n",
       "        features: ['Patient_ID', 'drugName', 'condition', 'review', 'rating', 'date', 'usefulCount'],\n",
       "        num_rows: 160398\n",
       "    })\n",
       "    test: Dataset({\n",
       "        features: ['Patient_ID', 'drugName', 'condition', 'review', 'rating', 'date', 'usefulCount'],\n",
       "        num_rows: 53471\n",
       "    })\n",
       "})"
      ]
     },
     "execution_count": 92,
     "metadata": {},
     "output_type": "execute_result"
    }
   ],
   "source": [
    "df_drug"
   ]
  },
  {
   "cell_type": "code",
   "execution_count": 93,
   "id": "acd9fa13-8c78-4c75-b983-5726fd370bfc",
   "metadata": {
    "tags": []
   },
   "outputs": [],
   "source": [
    "#peep in few examples\n",
    "#random selecting range of 500 within dataset\n",
    "#seed is num of reviews \n",
    "df_sample = df_drug['train'].shuffle(seed=42).select(range(500))"
   ]
  },
  {
   "cell_type": "code",
   "execution_count": 94,
   "id": "cb28c941-bbb1-4dc4-9c8b-e0b90cd0c0a4",
   "metadata": {
    "tags": []
   },
   "outputs": [
    {
     "data": {
      "text/plain": [
       "{'Patient_ID': [220552, 47811, 177091],\n",
       " 'drugName': ['Loestrin 24 Fe', 'Adapalene', 'Promethazine'],\n",
       " 'condition': ['Birth Control', 'Acne', 'Light Sedation'],\n",
       " 'review': ['\"I&#039;ve been on Loestrin almost 2 years now and have no real complaints! Nowhere near the weight gain I had while previously on Depo (maybe a pound or 2 on Loestrin) and my breasts have become significantly bigger (to the happiness of my boyfriend) and my skin is SO much smoother (also huge perk for him). I would really give it a 9.5 rating because those times when my period comes a day or 2 later then it should (because it only lasts 2 days at max) I start worrying if I&#039;m pregnant, but in the end, never am! My doctor said if I hated the paranoia then to use a back up birth control too.\"',\n",
       "  '\"This is so good, initially I was not keen because of most said about having a bigger breakout on top of what I was already suffering, well I did :-(  but I started in the summer holidays so I didn&#039;t have to ho out, well after the breakout, it was about a month that I started to see change :-) yes your skin peels, gets very dry and uncomfortable,I recommend a fragrant free moisturiser, put it on, don&#039;t rub in just let the skin absorb it. Your find after the dry period your skin becomes greasy a little, this helps after extreme dryness. Overall it&#039;s  really worth a go, I&#039;m also on lycymic tablets. Just need perseverance, as the cream draws out underlying spots which causes the intial puge at the beginning. Just have to avoid the sun .\"',\n",
       "  '\"I suffered a reaction to this product. I bought it for help with sleeping and I  was unable to sit or lie down for the restless nerve endings that lasted all night and most of the following day.\"'],\n",
       " 'rating': [10.0, 10.0, 1.0],\n",
       " 'date': ['August 6, 2011', 'July 7, 2016', 'March 9, 2009'],\n",
       " 'usefulCount': [1, 1, 26]}"
      ]
     },
     "execution_count": 94,
     "metadata": {},
     "output_type": "execute_result"
    }
   ],
   "source": [
    "#num of samples\n",
    "df_sample[:3]"
   ]
  },
  {
   "cell_type": "code",
   "execution_count": 97,
   "id": "756650c2-f984-4804-af4a-4486d00cea56",
   "metadata": {
    "tags": []
   },
   "outputs": [
    {
     "data": {
      "application/vnd.jupyter.widget-view+json": {
       "model_id": "",
       "version_major": 2,
       "version_minor": 0
      },
      "text/plain": [
       "Flattening the indices:   0%|          | 0/160398 [00:00<?, ? examples/s]"
      ]
     },
     "metadata": {},
     "output_type": "display_data"
    },
    {
     "data": {
      "application/vnd.jupyter.widget-view+json": {
       "model_id": "",
       "version_major": 2,
       "version_minor": 0
      },
      "text/plain": [
       "Flattening the indices:   0%|          | 0/53471 [00:00<?, ? examples/s]"
      ]
     },
     "metadata": {},
     "output_type": "display_data"
    }
   ],
   "source": [
    "#unique() - checks if no of ID matches with rows\n",
    "for split in df_drug.keys():\n",
    "    assert len(df_drug[split]) == len(df_drug[split].unique(\"Patient_ID\"))"
   ]
  },
  {
   "cell_type": "code",
   "execution_count": 98,
   "id": "c2f82a72-77f4-45e8-93e2-0a56fe1800f8",
   "metadata": {
    "tags": []
   },
   "outputs": [],
   "source": [
    "#rename the unnamed col\n",
    "# df_drug = df_drug.rename_column(original_column_name='Unnamed: 0', new_column_name='Patient_ID')\n"
   ]
  },
  {
   "cell_type": "code",
   "execution_count": 85,
   "id": "c3c341e1-a1fb-467e-a495-e683d559e0e0",
   "metadata": {
    "tags": []
   },
   "outputs": [],
   "source": [
    "def filter_nones(x):\n",
    "    return x[\"condition\"] is not None"
   ]
  },
  {
   "cell_type": "code",
   "execution_count": 87,
   "id": "8aff0125-81f2-4c34-8f2b-2f8041bcc62b",
   "metadata": {
    "tags": []
   },
   "outputs": [
    {
     "data": {
      "application/vnd.jupyter.widget-view+json": {
       "model_id": "",
       "version_major": 2,
       "version_minor": 0
      },
      "text/plain": [
       "Filter:   0%|          | 0/161297 [00:00<?, ? examples/s]"
      ]
     },
     "metadata": {},
     "output_type": "display_data"
    },
    {
     "data": {
      "application/vnd.jupyter.widget-view+json": {
       "model_id": "",
       "version_major": 2,
       "version_minor": 0
      },
      "text/plain": [
       "Filter:   0%|          | 0/53766 [00:00<?, ? examples/s]"
      ]
     },
     "metadata": {},
     "output_type": "display_data"
    }
   ],
   "source": [
    " #using lambda func to eliminate None entries in 'condition' field\n",
    "df_drug = df_drug.filter(lambda x : x['condition'] is not None)"
   ]
  },
  {
   "cell_type": "code",
   "execution_count": 107,
   "id": "94166896-796f-409f-80bc-8d8737784adf",
   "metadata": {
    "tags": []
   },
   "outputs": [
    {
     "data": {
      "application/vnd.jupyter.widget-view+json": {
       "model_id": "",
       "version_major": 2,
       "version_minor": 0
      },
      "text/plain": [
       "Map:   0%|          | 0/160398 [00:00<?, ? examples/s]"
      ]
     },
     "metadata": {},
     "output_type": "display_data"
    },
    {
     "data": {
      "application/vnd.jupyter.widget-view+json": {
       "model_id": "",
       "version_major": 2,
       "version_minor": 0
      },
      "text/plain": [
       "Map:   0%|          | 0/53471 [00:00<?, ? examples/s]"
      ]
     },
     "metadata": {},
     "output_type": "display_data"
    },
    {
     "data": {
      "text/plain": [
       "DatasetDict({\n",
       "    train: Dataset({\n",
       "        features: ['patientID', 'drugName', 'condition', 'review', 'rating', 'date', 'usefulCount'],\n",
       "        num_rows: 160398\n",
       "    })\n",
       "    test: Dataset({\n",
       "        features: ['patientID', 'drugName', 'condition', 'review', 'rating', 'date', 'usefulCount'],\n",
       "        num_rows: 53471\n",
       "    })\n",
       "})"
      ]
     },
     "execution_count": 107,
     "metadata": {},
     "output_type": "execute_result"
    }
   ],
   "source": [
    "#lowercase\n",
    "df_drug.map(lowercase_condition)\n",
    "df_drug"
   ]
  },
  {
   "cell_type": "code",
   "execution_count": 89,
   "id": "5cee8ad0-f355-483c-a930-8ca3205289a6",
   "metadata": {
    "tags": []
   },
   "outputs": [
    {
     "data": {
      "text/plain": [
       "20"
      ]
     },
     "execution_count": 89,
     "metadata": {},
     "output_type": "execute_result"
    }
   ],
   "source": [
    "(lambda length,height,width :length * height * width)(5,2,2) #a small & anonymous func used but not  declared and thrown away after use"
   ]
  },
  {
   "cell_type": "code",
   "execution_count": 102,
   "id": "ceb50a62-6b99-4b1d-971a-3ce4a4a64e5e",
   "metadata": {
    "tags": []
   },
   "outputs": [],
   "source": [
    "#rename a column\n",
    "# df_drug = df_drug.rename_column(original_column_name='Patient_ID', new_column_name='patientID')"
   ]
  },
  {
   "cell_type": "code",
   "execution_count": 109,
   "id": "21ea333d-eb80-49f2-bd1e-887aec78b297",
   "metadata": {
    "tags": []
   },
   "outputs": [
    {
     "data": {
      "text/plain": [
       "['Left Ventricular Dysfunction',\n",
       " 'ADHD',\n",
       " 'Birth Control',\n",
       " 'Birth Control',\n",
       " 'Opiate Dependence']"
      ]
     },
     "execution_count": 109,
     "metadata": {},
     "output_type": "execute_result"
    }
   ],
   "source": [
    "df_drug['train']['condition'][:5]"
   ]
  },
  {
   "cell_type": "code",
   "execution_count": 112,
   "id": "8d76469c-d460-4664-9f15-d09d047a7f32",
   "metadata": {
    "tags": []
   },
   "outputs": [
    {
     "data": {
      "text/plain": [
       "['\"It has no side effect, I take it in combination of Bystolic 5 Mg and Fish Oil\"',\n",
       " '\"My son is halfway through his fourth week of Intuniv. We became concerned when he began this last week, when he started taking the highest dose he will be on. For two days, he could hardly get out of bed, was very cranky, and slept for nearly 8 hours on a drive home from school vacation (very unusual for him.) I called his doctor on Monday morning and she said to stick it out a few days. See how he did at school, and with getting up in the morning. The last two days have been problem free. He is MUCH more agreeable than ever. He is less emotional (a good thing), less cranky. He is remembering all the things he should. Overall his behavior is better. \\r\\nWe have tried many different medications and so far this is the most effective.\"']"
      ]
     },
     "execution_count": 112,
     "metadata": {},
     "output_type": "execute_result"
    }
   ],
   "source": [
    "df_drug['train']['review'][:2]"
   ]
  },
  {
   "cell_type": "code",
   "execution_count": 114,
   "id": "accc1e77-439a-4861-8412-c2bf3f2b7e00",
   "metadata": {
    "tags": []
   },
   "outputs": [],
   "source": [
    "#counts length of every review \n",
    "def compute_review_length(example):\n",
    "    return {\"review_length\": len(example[\"review\"].split())}"
   ]
  },
  {
   "cell_type": "code",
   "execution_count": 115,
   "id": "8535b0ab-9bae-4131-96a6-1f58993eddcf",
   "metadata": {
    "tags": []
   },
   "outputs": [
    {
     "data": {
      "application/vnd.jupyter.widget-view+json": {
       "model_id": "",
       "version_major": 2,
       "version_minor": 0
      },
      "text/plain": [
       "Map:   0%|          | 0/160398 [00:00<?, ? examples/s]"
      ]
     },
     "metadata": {},
     "output_type": "display_data"
    },
    {
     "data": {
      "application/vnd.jupyter.widget-view+json": {
       "model_id": "",
       "version_major": 2,
       "version_minor": 0
      },
      "text/plain": [
       "Map:   0%|          | 0/53471 [00:00<?, ? examples/s]"
      ]
     },
     "metadata": {},
     "output_type": "display_data"
    }
   ],
   "source": [
    "df_drug = df_drug.map(compute_review_length) #map() applies the func to items in the dataset"
   ]
  },
  {
   "cell_type": "code",
   "execution_count": 126,
   "id": "032de3be-ad95-45fd-8d99-91eab191a715",
   "metadata": {
    "tags": []
   },
   "outputs": [
    {
     "data": {
      "text/plain": [
       "{'patientID': [206461],\n",
       " 'drugName': ['Valsartan'],\n",
       " 'condition': ['Left Ventricular Dysfunction'],\n",
       " 'review': ['\"It has no side effect, I take it in combination of Bystolic 5 Mg and Fish Oil\"'],\n",
       " 'rating': [9.0],\n",
       " 'date': ['May 20, 2012'],\n",
       " 'usefulCount': [27],\n",
       " 'review_length': [17]}"
      ]
     },
     "execution_count": 126,
     "metadata": {},
     "output_type": "execute_result"
    }
   ],
   "source": [
    "df_drug['train'][:1] #first review in dataset"
   ]
  },
  {
   "cell_type": "code",
   "execution_count": null,
   "id": "b2cde5ce-4720-4de4-acd3-75beaf764a00",
   "metadata": {},
   "outputs": [],
   "source": []
  }
 ],
 "metadata": {
  "kernelspec": {
   "display_name": "Python 3 (ipykernel)",
   "language": "python",
   "name": "python3"
  },
  "language_info": {
   "codemirror_mode": {
    "name": "ipython",
    "version": 3
   },
   "file_extension": ".py",
   "mimetype": "text/x-python",
   "name": "python",
   "nbconvert_exporter": "python",
   "pygments_lexer": "ipython3",
   "version": "3.11.5"
  }
 },
 "nbformat": 4,
 "nbformat_minor": 5
}
