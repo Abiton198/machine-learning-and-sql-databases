{
 "cells": [
  {
   "cell_type": "code",
   "execution_count": 20,
   "id": "4fc94ce2-1022-41d8-bb1f-22b3f12ea44e",
   "metadata": {
    "tags": []
   },
   "outputs": [],
   "source": [
    "# imports\n",
    "import re # regular expression library; for tokenization of words\n",
    "from collections import Counter # collections library; counter: dict subclass for counting hashable objects\n",
    "import matplotlib.pyplot as plt # for data visualization"
   ]
  },
  {
   "cell_type": "code",
   "execution_count": 22,
   "id": "d42fd590-7d97-4bf5-aeb1-b31c6442c32b",
   "metadata": {
    "tags": []
   },
   "outputs": [
    {
     "name": "stdout",
     "output_type": "stream",
     "text": [
      "red pink pink blue blue yellow ORANGE BLUE BLUE PINK Grey GREY GREEN gReen\n",
      "string length :  74\n"
     ]
    }
   ],
   "source": [
    "# the tiny corpus of text ! \n",
    "text = 'red pink pink blue blue yellow ORANGE BLUE BLUE PINK Grey GREY GREEN gReen' # 🌈\n",
    "print(text)\n",
    "print('string length : ',len(text))"
   ]
  },
  {
   "cell_type": "code",
   "execution_count": 24,
   "id": "5c02454d-766e-4a13-b95b-889d39cc5961",
   "metadata": {
    "tags": []
   },
   "outputs": [
    {
     "name": "stdout",
     "output_type": "stream",
     "text": [
      "red pink pink blue blue yellow orange blue blue pink grey grey green green\n",
      "length: 74\n"
     ]
    }
   ],
   "source": [
    "#lower case\n",
    "lower_case = text.lower()\n",
    "lower_case\n",
    "print(lower_case)\n",
    "print('length:', len(lower_case) )"
   ]
  },
  {
   "cell_type": "code",
   "execution_count": 26,
   "id": "8dbdc3b3-82e4-420d-bc05-4bef7e5fb9b2",
   "metadata": {
    "tags": []
   },
   "outputs": [
    {
     "name": "stdout",
     "output_type": "stream",
     "text": [
      "['red', 'pink', 'pink', 'blue', 'blue', 'yellow', 'orange', 'blue', 'blue', 'pink', 'grey', 'grey', 'green', 'green']\n",
      "length: 14\n"
     ]
    }
   ],
   "source": [
    "#make string using regex\n",
    "string = re.findall(r'\\w+',lower_case)\n",
    "print(string)\n",
    "print('length:',len(string))"
   ]
  },
  {
   "cell_type": "code",
   "execution_count": 28,
   "id": "4a1d5295-a7d6-4519-94e6-5e97c7f55a1f",
   "metadata": {
    "tags": []
   },
   "outputs": [
    {
     "name": "stdout",
     "output_type": "stream",
     "text": [
      "{'yellow', 'blue', 'pink', 'green', 'orange', 'grey', 'red'}\n",
      "count: 7\n"
     ]
    }
   ],
   "source": [
    "#create voc\n",
    "voc = set(string)\n",
    "print(voc)\n",
    "print('count:', len(voc))"
   ]
  },
  {
   "cell_type": "code",
   "execution_count": 30,
   "id": "3f7594b8-2fd1-4f7c-924e-538a612a2f1b",
   "metadata": {
    "tags": []
   },
   "outputs": [
    {
     "name": "stdout",
     "output_type": "stream",
     "text": [
      "{'red': 1, 'pink': 3, 'blue': 4, 'yellow': 1, 'orange': 1, 'grey': 2, 'green': 2}\n",
      "count: 7\n"
     ]
    }
   ],
   "source": [
    "#create count a\n",
    "count_a = dict()\n",
    "for w in string:\n",
    "    count_a[w] = count_a.get(w,0)+1\n",
    "print(count_a)\n",
    "print('count:',len(count_a))"
   ]
  },
  {
   "cell_type": "code",
   "execution_count": 32,
   "id": "bf3a47a7-0c87-4124-b368-57e5c3e6356b",
   "metadata": {
    "tags": []
   },
   "outputs": [
    {
     "name": "stdout",
     "output_type": "stream",
     "text": [
      "Counter({'blue': 4, 'pink': 3, 'grey': 2, 'green': 2, 'red': 1, 'yellow': 1, 'orange': 1})\n",
      "count: 7\n"
     ]
    }
   ],
   "source": [
    "# create vocab including word count using collections.Counter\n",
    "count_b = dict()\n",
    "count_b = Counter(string)\n",
    "print(count_b)\n",
    "print('count:',len(count_b))"
   ]
  },
  {
   "cell_type": "code",
   "execution_count": 34,
   "id": "c024a280-ad9b-4812-9abb-7382ff9afaf3",
   "metadata": {
    "tags": []
   },
   "outputs": [
    {
     "data": {
      "image/png": "[encoded data removed]",
      "text/plain": [
       "<Figure size 640x480 with 1 Axes>"
      ]
     },
     "metadata": {},
     "output_type": "display_data"
    }
   ],
   "source": [
    "# barchart of sorted word counts\n",
    "d = {'blue':count_b['blue'], 'pink':count_b['pink'], 'grey':count_b['grey'],'green':count_b['green'],'red':count_b['red'],'yellow':count_b['yellow'], 'orange':count_b['orange']}\n",
    "plt.bar(range(len(d)), list(d.values()), align='center', color=d.keys())\n",
    "_ = plt.xticks(range(len(d)), list(d.keys()))"
   ]
  },
  {
   "cell_type": "code",
   "execution_count": 36,
   "id": "2193dd62-2142-436c-9eb7-aa255642cb16",
   "metadata": {
    "tags": []
   },
   "outputs": [
    {
     "name": "stdout",
     "output_type": "stream",
     "text": [
      "counts_b :  Counter({'blue': 4, 'pink': 3, 'grey': 2, 'green': 2, 'red': 1, 'yellow': 1, 'orange': 1})\n",
      "count :  7\n"
     ]
    }
   ],
   "source": [
    "print('counts_b : ', count_b)\n",
    "print('count : ', len(count_b))"
   ]
  },
  {
   "cell_type": "code",
   "execution_count": 130,
   "id": "d841b1fb-0657-4f66-b6a1-8987fab81c13",
   "metadata": {},
   "outputs": [
    {
     "name": "stdout",
     "output_type": "stream",
     "text": [
      "491577\n"
     ]
    }
   ],
   "source": [
    "ds = 'regex_sum.txt'\n",
    "try:\n",
    "    with open(ds, 'r') as file:\n",
    "        lines = file.readlines() #read all lines into a list\n",
    "        # print(line)\n",
    "except FileNotFoundError:\n",
    "    print(f'File not found: {ds}')\n",
    "    exit(1)\n",
    "    \n",
    "# count_lines = []\n",
    "# for line in lines:\n",
    "#     line = line.strip() #remove spaces\n",
    "#     gaps = re.findall('[0-9]+', line) #extract numbers only\n",
    "#     # print(gaps)\n",
    "    \n",
    "#     if gaps:\n",
    "#         count_lines.extend(map(int,gaps)) #change strings into integers\n",
    "        \n",
    "# print(count_lines)\n",
    "# print(f'Total: {sum(count_lines)}')\n",
    "\n",
    "# list-comprehension\n",
    "count_lines = sum([int(num) for line in lines for num in re.findall('[\\d]+', line)]) #\\d = [0-9]\n",
    "# print(sum(count_lines))\n",
    "print(count_lines)\n",
    "        "
   ]
  },
  {
   "cell_type": "code",
   "execution_count": 142,
   "id": "238b5718-7047-44df-a210-7b269aac3b1a",
   "metadata": {
    "tags": []
   },
   "outputs": [
    {
     "name": "stdout",
     "output_type": "stream",
     "text": [
      "HTTP/1.0 301 Moved Permanently\n",
      "Content-Type: text/plain; charset=utf-8\n",
      "Date: Thu, 29 Aug 2024 07:51:55 GMT\n",
      "Location: https://generationalwealthafrica.com/\n",
      "Server: Netlify\n",
      "X-Nf-Request-Id: 01J6EHX813C8M9F7W52CZXQES3\n",
      "Content-Length: 52\n",
      "\n",
      "Redirecting to https://generationalwealthafrica.com/"
     ]
    }
   ],
   "source": [
    "#Request / response cycle\n",
    "\n",
    "import socket\n",
    "mysock = socket.socket(socket.AF_INET, socket.SOCK_STREAM)\n",
    "mysock.connect(('generationalwealthafrica.com' , 80))\n",
    "cmd = 'GET http://generationalwealthafrica.com HTTP/1.0\\r\\n\\r\\n'.encode()\n",
    "mysock.send(cmd)\n",
    "\n",
    "while True:\n",
    "    data = mysock.recv(512)\n",
    "    if len(data) < 1:\n",
    "        break\n",
    "    print(data.decode(),end='')\n",
    "\n",
    "mysock.close()"
   ]
  },
  {
   "cell_type": "code",
   "execution_count": 136,
   "id": "2e5a5185-5ea9-4c53-bf5b-21d1a22b9f67",
   "metadata": {
    "tags": []
   },
   "outputs": [
    {
     "name": "stdout",
     "output_type": "stream",
     "text": [
      "HTTP/1.0 200 OK\n",
      "Date: Thu, 29 Aug 2024 07:45:43 GMT\n",
      "Server: Apache/2.4.52 (Ubuntu)\n",
      "Last-Modified: Sat, 13 May 2017 11:22:22 GMT\n",
      "ETag: \"1d3-54f6609240717\"\n",
      "Accept-Ranges: bytes\n",
      "Cache-Control: max-age=0, no-cache, no-store, must-revalidate\n",
      "Pragma: no-cache\n",
      "Expires: Wed, 11 Jan 1984 05:00:00 GMT\n",
      "Content-Type: text/plain\n",
      "Content-Length: 467\n",
      "\n",
      "Why should you learn to write programs?\n",
      "\n",
      "Writing programs (or programming) is a very creative \n",
      "and rewarding activity.  You can write programs for \n",
      "many reasons, ranging from making your living to solving\n",
      "a difficult data analysis problem to having fun to helping\n",
      "someone else solve a problem.  This book assumes that \n",
      "everyone needs to know how to program, and that once \n",
      "you know how to program you will figure out what you want \n",
      "to do with your newfound skills.  \n"
     ]
    }
   ],
   "source": [
    "#Request / response cycle\n",
    "import socket\n",
    "\n",
    "mysock = socket.socket(socket.AF_INET, socket.SOCK_STREAM)\n",
    "mysock.connect(('data.pr4e.org', 80))\n",
    "cmd = 'GET http://data.pr4e.org/intro-short.txt HTTP/1.0\\r\\n\\r\\n'.encode()\n",
    "mysock.send(cmd)\n",
    "\n",
    "while True:\n",
    "    data = mysock.recv(512)\n",
    "    if len(data) < 1:\n",
    "        break\n",
    "    print(data.decode(),end='')\n",
    "\n",
    "mysock.close()"
   ]
  },
  {
   "cell_type": "code",
   "execution_count": 5,
   "id": "dd063a85-073a-42a7-ac3b-c39c0ef5fb7e",
   "metadata": {},
   "outputs": [
    {
     "name": "stdin",
     "output_type": "stream",
     "text": [
      "Enter http://py4e-data.dr-chuck.net/comments_2038554.html\n"
     ]
    },
    {
     "name": "stdout",
     "output_type": "stream",
     "text": [
      "sum: 97\n",
      "sum: 190\n",
      "sum: 281\n",
      "sum: 371\n",
      "sum: 460\n",
      "sum: 548\n",
      "sum: 636\n",
      "sum: 723\n",
      "sum: 805\n",
      "sum: 886\n",
      "sum: 962\n",
      "sum: 1038\n",
      "sum: 1114\n",
      "sum: 1189\n",
      "sum: 1264\n",
      "sum: 1336\n",
      "sum: 1406\n",
      "sum: 1473\n",
      "sum: 1533\n",
      "sum: 1592\n",
      "sum: 1650\n",
      "sum: 1702\n",
      "sum: 1751\n",
      "sum: 1799\n",
      "sum: 1847\n",
      "sum: 1894\n",
      "sum: 1940\n",
      "sum: 1979\n",
      "sum: 2015\n",
      "sum: 2051\n",
      "sum: 2086\n",
      "sum: 2119\n",
      "sum: 2148\n",
      "sum: 2176\n",
      "sum: 2203\n",
      "sum: 2230\n",
      "sum: 2252\n",
      "sum: 2271\n",
      "sum: 2290\n",
      "sum: 2305\n",
      "sum: 2319\n",
      "sum: 2333\n",
      "sum: 2346\n",
      "sum: 2359\n",
      "sum: 2370\n",
      "sum: 2379\n",
      "sum: 2384\n",
      "sum: 2389\n",
      "sum: 2393\n",
      "sum: 2396\n"
     ]
    }
   ],
   "source": [
    "from urllib.request import urlopen\n",
    "from bs4 import BeautifulSoup\n",
    "import ssl \n",
    "\n",
    "\n",
    "# Ignore SSL certificate errors\n",
    "ctx = ssl.create_default_context()\n",
    "ctx.check_hostname = False\n",
    "ctx.verify_mode = ssl.CERT_NONE\n",
    "\n",
    "url = input('Enter') #use this ---- http://py4e-data.dr-chuck.net/comments_2038554.html\n",
    "html = urlopen(url, context=ctx).read()\n",
    "soup = BeautifulSoup(html, 'html.parser')\n",
    "tags = soup('span') #look for span tags only\n",
    "\n",
    "count = 0 #put into total count\n",
    "\n",
    " # Look at the parts of a tag\n",
    "for tag in tags:\n",
    "    st = int(tag.text)\n",
    "    count += st #increment in total\n",
    "    print('sum:',count)\n"
   ]
  },
  {
   "cell_type": "code",
   "execution_count": 193,
   "id": "34f24805-564a-4d75-87dc-2db14764b72d",
   "metadata": {},
   "outputs": [
    {
     "name": "stdin",
     "output_type": "stream",
     "text": [
      "Enter http://py4e-data.dr-chuck.net/known_by_Marvin.html\n"
     ]
    },
    {
     "name": "stdout",
     "output_type": "stream",
     "text": [
      "Name at position 18: Yago\n",
      "follow this url: http://py4e-data.dr-chuck.net/known_by_Yago.html\n",
      "Name at position 18: Daood\n",
      "follow this url: http://py4e-data.dr-chuck.net/known_by_Daood.html\n",
      "Name at position 18: Jillian\n",
      "follow this url: http://py4e-data.dr-chuck.net/known_by_Jillian.html\n",
      "Name at position 18: Bradly\n",
      "follow this url: http://py4e-data.dr-chuck.net/known_by_Bradly.html\n",
      "Name at position 18: Steffie\n",
      "follow this url: http://py4e-data.dr-chuck.net/known_by_Steffie.html\n",
      "Name at position 18: Mitchel\n",
      "follow this url: http://py4e-data.dr-chuck.net/known_by_Mitchel.html\n",
      "Name at position 18: Caelen\n",
      "follow this url: http://py4e-data.dr-chuck.net/known_by_Caelen.html\n",
      "Final output after, 7 repetitions: http://py4e-data.dr-chuck.net/known_by_Caelen.html\n"
     ]
    }
   ],
   "source": [
    "from urllib.request import urlopen\n",
    "from bs4 import BeautifulSoup\n",
    "import ssl \n",
    "\n",
    "\n",
    "# Ignore SSL certificate errors\n",
    "ctx = ssl.create_default_context()\n",
    "ctx.check_hostname = False\n",
    "ctx.verify_mode = ssl.CERT_NONE\n",
    "\n",
    "\n",
    "url = input('Enter') #use this ---- http://py4e-data.dr-chuck.net/known_by_Marvin.html\n",
    "\n",
    "repeat = 7\n",
    "position = 18\n",
    "\n",
    "\n",
    "for i in range(repeat):\n",
    "    html = urlopen(url, context=ctx).read()\n",
    "    soup = BeautifulSoup(html, 'html.parser')\n",
    "    \n",
    "    tags = soup('a') #look for span tags only\n",
    "    # print(tags)\n",
    "\n",
    "    #check tags are more that 18\n",
    "    if len(tags) < position:\n",
    "        print(f'Less than {positions} in the links')\n",
    "        break\n",
    "\n",
    "    tag = tags[position - 1] #find the tag at the position\n",
    "    print(f\"Name at position {position}: {tag.text}\")\n",
    "\n",
    "    url = tag.get('href', None) #set the url for the next iteration\n",
    "    print(f'follow this url: {url}')\n",
    "    \n",
    "\n",
    "print(f'Final output after, {repeat} repetitions: {url}')\n"
   ]
  },
  {
   "cell_type": "code",
   "execution_count": 31,
   "id": "ea6273a2-8264-4bf5-bea5-b79208e4508d",
   "metadata": {},
   "outputs": [
    {
     "name": "stdin",
     "output_type": "stream",
     "text": [
      "Enter location:  http://py4e-data.dr-chuck.net/comments_2038556.xml\n"
     ]
    },
    {
     "name": "stdout",
     "output_type": "stream",
     "text": [
      "Retrieving http://py4e-data.dr-chuck.net/comments_2038556.xml\n",
      "Retrieved 4234 characters\n",
      "Count: 50\n",
      "Sum: 2501\n"
     ]
    }
   ],
   "source": [
    "# You are to look through all the <comment> tags and find the <count> values sum the numbers. The closest sample code that shows how to parse XML is xml3.py.\n",
    "# To make the code a little simpler, you can use an XPath selector string to look through the entire tree of XML for any tag named 'count' with the following line of code:\n",
    "\n",
    "import urllib.request\n",
    "import xml.etree.ElementTree as ET\n",
    "\n",
    "url = input('Enter location: ')\n",
    "if len(url) < 1 : \n",
    "    url = 'http://py4e-data.dr-chuck.net/comments_2038556.xml' #use this url as input location above\n",
    "\n",
    "print('Retrieving', url)\n",
    "uh = urllib.request.urlopen(url)\n",
    "data = uh.read()\n",
    "\n",
    "print('Retrieved',len(data),'characters')\n",
    "tree = ET.fromstring(data)\n",
    "\n",
    "counts = tree.findall('.//count') # name tag in the tree (count)\n",
    "\n",
    "nums = list()\n",
    "for result in counts:\n",
    "    # convert result to integer then add to the list\n",
    "    nums.append(int(result.text))\n",
    "    \n",
    "\n",
    "print('Count:', len(nums))\n",
    "print('Sum:', sum(nums))"
   ]
  },
  {
   "cell_type": "code",
   "execution_count": 79,
   "id": "efa521c3-dee4-4683-bd5b-56839c9544c0",
   "metadata": {
    "tags": []
   },
   "outputs": [
    {
     "name": "stdin",
     "output_type": "stream",
     "text": [
      "Enter location:  http://py4e-data.dr-chuck.net/comments_2038557.json\n"
     ]
    },
    {
     "name": "stdout",
     "output_type": "stream",
     "text": [
      "Retrieving http://py4e-data.dr-chuck.net/comments_2038557.json\n",
      "Retrieved 2731 characters\n",
      "User count: 2\n",
      "Total count:  2433\n"
     ]
    }
   ],
   "source": [
    "# Extracting Data from JSON\n",
    "\n",
    "# In this assignment you will write a Python program somewhat similar to http://www.py4e.com/code3/json2.py. The program will prompt for a URL, read the JSON data from that URL using urllib and then parse and extract the comment counts from the JSON data, compute the sum of the numbers in the file and enter the sum below:\n",
    "# We provide two files for this assignment. One is a sample file where we give you the sum for your testing and the other is the actual data you need to process for the assignment.\n",
    "\n",
    "# Sample data: http://py4e-data.dr-chuck.net/comments_42.json (Sum=2553)\n",
    "# Actual data: http://py4e-data.dr-chuck.net/comments_2038557.json (Sum ends with 33)\n",
    "\n",
    "\n",
    "import json\n",
    "import urllib.request\n",
    "import xml.etree.ElementTree as ET\n",
    "\n",
    "\n",
    "url = input('Enter location: ') #use given url\n",
    "if len(url) < 1 : \n",
    "    url = 'http://py4e-data.dr-chuck.net/comments_2038557.json'\n",
    "\n",
    "print('Retrieving', url)\n",
    "uh = urllib.request.urlopen(url) #parsing url to read in python\n",
    "data = uh.read()\n",
    "print('Retrieved',len(data),'characters') #length of characters\n",
    "info = json.loads(data) #changing the data into json format\n",
    "# print(info)\n",
    "print('User count:', len(info)) #len of json data\n",
    "\n",
    "total_count = 0\n",
    "\n",
    "for item in info['comments']:\n",
    "    count = int(item['count']) #changing str to integer\n",
    "    total_count += count #accumulative counting\n",
    "    \n",
    "\n",
    "print('Total count: ', total_count)"
   ]
  },
  {
   "cell_type": "code",
   "execution_count": 25,
   "id": "897eb5a9-2881-4fbd-aad0-ffb37057e70f",
   "metadata": {
    "tags": []
   },
   "outputs": [
    {
     "name": "stdin",
     "output_type": "stream",
     "text": [
      "Enter location:  Pretoria\n"
     ]
    },
    {
     "name": "stdout",
     "output_type": "stream",
     "text": [
      "Retrieving https://py4e-data.dr-chuck.net/opengeo?q=Pretoria\n",
      "Retrieved 1410 characters {\"type\":\"FeatureColl\n",
      "{\n",
      "    \"type\": \"FeatureCollection\",\n",
      "    \"features\": [\n",
      "        {\n",
      "            \"type\": \"Feature\",\n",
      "            \"properties\": {\n",
      "                \"datasource\": {\n",
      "                    \"sourcename\": \"openstreetmap\",\n",
      "                    \"attribution\": \"\\u00a9 OpenStreetMap contributors\",\n",
      "                    \"license\": \"Open Database License\",\n",
      "                    \"url\": \"https://www.openstreetmap.org/copyright\"\n",
      "                },\n",
      "                \"display_name\": \"Pretoria\",\n",
      "                \"country\": \"South Africa\",\n",
      "                \"country_code\": \"za\",\n",
      "                \"state\": \"Gauteng\",\n",
      "                \"county\": \"City of Tshwane Metropolitan Municipality\",\n",
      "                \"city\": \"Pretoria\",\n",
      "                \"postcode\": \"0126\",\n",
      "                \"lon\": 28.1879101,\n",
      "                \"lat\": -25.7459277,\n",
      "                \"state_code\": \"GT\",\n",
      "                \"result_type\": \"postcode\",\n",
      "                \"formatted\": \"Pretoria, 0126, South Africa\",\n",
      "                \"address_line1\": \"Pretoria\",\n",
      "                \"address_line2\": \"Pretoria, 0126, South Africa\",\n",
      "                \"category\": \"populated_place\",\n",
      "                \"timezone\": {\n",
      "                    \"display_name\": \"Africa/Johannesburg\",\n",
      "                    \"offset_STD\": \"+02:00\",\n",
      "                    \"offset_STD_seconds\": 7200,\n",
      "                    \"offset_DST\": \"+02:00\",\n",
      "                    \"offset_DST_seconds\": 7200,\n",
      "                    \"abbreviation_STD\": \"SAST\",\n",
      "                    \"abbreviation_DST\": \"SAST\"\n",
      "                },\n",
      "                \"plus_code\": \"5G6C753Q+J5\",\n",
      "                \"plus_code_short\": \"3Q+J5 Pretoria, City of Tshwane Metropolitan Municipality, South Africa\",\n",
      "                \"rank\": {\n",
      "                    \"importance\": 0.7011481681694048,\n",
      "                    \"popularity\": 5.073910995706957,\n",
      "                    \"confidence\": 1,\n",
      "                    \"confidence_city_level\": 1,\n",
      "                    \"match_type\": \"full_match\"\n",
      "                },\n",
      "                \"place_id\": \"518d1656e01a303c405935ae241ef5be39c0f00103f901b527850100000000c00207920307303132362b7a61\"\n",
      "            },\n",
      "            \"geometry\": {\n",
      "                \"type\": \"Point\",\n",
      "                \"coordinates\": [\n",
      "                    28.1879101,\n",
      "                    -25.7459277\n",
      "                ]\n",
      "            },\n",
      "            \"bbox\": [\n",
      "                28.0279101,\n",
      "                -25.9059277,\n",
      "                28.3479101,\n",
      "                -25.5859277\n",
      "            ]\n",
      "        }\n",
      "    ],\n",
      "    \"query\": {\n",
      "        \"text\": \"Pretoria\",\n",
      "        \"parsed\": {\n",
      "            \"city\": \"pretoria\",\n",
      "            \"expected_type\": \"unknown\"\n",
      "        }\n",
      "    }\n",
      "}\n",
      "lat -25.7459277 lon 28.1879101\n",
      "Pretoria, 0126, South Africa\n"
     ]
    }
   ],
   "source": [
    "# In this assignment you will write a Python program somewhat similar to http://www.py4e.com/code3/opengeo.py. \n",
    "# The program will prompt for a location, contact a web service and retrieve JSON for the web service and parse that data, \n",
    "# and retrieve the first plus_code from the JSON. An Open Location Code is a textual identifier that is another form of \n",
    "# address based on the location of the address.\n",
    "\n",
    "\n",
    "import urllib.request, urllib.parse\n",
    "import json, ssl\n",
    "\n",
    "# Heavily rate limited proxy of https://www.geoapify.com/ api\n",
    "serviceurl = 'https://py4e-data.dr-chuck.net/opengeo?'\n",
    "\n",
    "# Ignore SSL certificate errors\n",
    "ctx = ssl.create_default_context()\n",
    "ctx.check_hostname = False\n",
    "ctx.verify_mode = ssl.CERT_NONE\n",
    "address = input('Enter location: ')\n",
    "# while True:\n",
    "    \n",
    "if len(address) < 1: \n",
    "       print('No location found') \n",
    "\n",
    "address = address.strip()\n",
    "parms = dict()\n",
    "parms['q'] = address\n",
    "\n",
    "url = serviceurl + urllib.parse.urlencode(parms)\n",
    "\n",
    "print('Retrieving', url)\n",
    "uh = urllib.request.urlopen(url, context=ctx)\n",
    "data = uh.read().decode()\n",
    "print('Retrieved', len(data), 'characters', data[:20].replace('\\n', ' '))\n",
    "\n",
    "try:\n",
    "    js = json.loads(data)\n",
    "    # print(js) #print the json file not in order or indent\n",
    "except:\n",
    "    js = None\n",
    "\n",
    "if not js or 'features' not in js:\n",
    "    print('==== Download error ===')\n",
    "    print(data)\n",
    "    exit()\n",
    "\n",
    "if len(js['features']) == 0:\n",
    "    print('==== Object not found ====')\n",
    "    print(data)\n",
    "    exit()\n",
    "\n",
    "print(json.dumps(js, indent=4)) #prints a nicely formated indent json\n",
    "\n",
    "lat = js['features'][0]['properties']['lat']\n",
    "lon = js['features'][0]['properties']['lon']\n",
    "print('lat', lat, 'lon', lon)\n",
    "location = js['features'][0]['properties']['formatted']\n",
    "print(location)\n",
    "\n",
    "\n",
    "\n"
   ]
  },
  {
   "cell_type": "code",
   "execution_count": null,
   "id": "2214dadc-43b1-4fb5-8df8-671407ede5ab",
   "metadata": {},
   "outputs": [],
   "source": []
  },
  {
   "cell_type": "code",
   "execution_count": null,
   "id": "a2e00f8b-9bba-4e6f-b0d8-7537fa29aa8a",
   "metadata": {},
   "outputs": [],
   "source": []
  }
 ],
 "metadata": {
  "kernelspec": {
   "display_name": "Python 3 (ipykernel)",
   "language": "python",
   "name": "python3"
  },
  "language_info": {
   "codemirror_mode": {
    "name": "ipython",
    "version": 3
   },
   "file_extension": ".py",
   "mimetype": "text/x-python",
   "name": "python",
   "nbconvert_exporter": "python",
   "pygments_lexer": "ipython3",
   "version": "3.11.5"
  }
 },
 "nbformat": 4,
 "nbformat_minor": 5
}
