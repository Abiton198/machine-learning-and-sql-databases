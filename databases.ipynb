{
 "cells": [
  {
   "cell_type": "code",
   "execution_count": 59,
   "id": "b86c4680-79a4-4930-a66e-70e7eb9469f7",
   "metadata": {
    "tags": []
   },
   "outputs": [
    {
     "name": "stdout",
     "output_type": "stream",
     "text": [
      "so far x is: 1\n",
      "so far x is: 2\n",
      "so far x is: 3\n",
      "am destructed 3\n",
      "the new value is: 40\n"
     ]
    },
    {
     "data": {
      "text/plain": [
       "['__abs__',\n",
       " '__add__',\n",
       " '__and__',\n",
       " '__bool__',\n",
       " '__ceil__',\n",
       " '__class__',\n",
       " '__delattr__',\n",
       " '__dir__',\n",
       " '__divmod__',\n",
       " '__doc__',\n",
       " '__eq__',\n",
       " '__float__',\n",
       " '__floor__',\n",
       " '__floordiv__',\n",
       " '__format__',\n",
       " '__ge__',\n",
       " '__getattribute__',\n",
       " '__getnewargs__',\n",
       " '__getstate__',\n",
       " '__gt__',\n",
       " '__hash__',\n",
       " '__index__',\n",
       " '__init__',\n",
       " '__init_subclass__',\n",
       " '__int__',\n",
       " '__invert__',\n",
       " '__le__',\n",
       " '__lshift__',\n",
       " '__lt__',\n",
       " '__mod__',\n",
       " '__mul__',\n",
       " '__ne__',\n",
       " '__neg__',\n",
       " '__new__',\n",
       " '__or__',\n",
       " '__pos__',\n",
       " '__pow__',\n",
       " '__radd__',\n",
       " '__rand__',\n",
       " '__rdivmod__',\n",
       " '__reduce__',\n",
       " '__reduce_ex__',\n",
       " '__repr__',\n",
       " '__rfloordiv__',\n",
       " '__rlshift__',\n",
       " '__rmod__',\n",
       " '__rmul__',\n",
       " '__ror__',\n",
       " '__round__',\n",
       " '__rpow__',\n",
       " '__rrshift__',\n",
       " '__rshift__',\n",
       " '__rsub__',\n",
       " '__rtruediv__',\n",
       " '__rxor__',\n",
       " '__setattr__',\n",
       " '__sizeof__',\n",
       " '__str__',\n",
       " '__sub__',\n",
       " '__subclasshook__',\n",
       " '__truediv__',\n",
       " '__trunc__',\n",
       " '__xor__',\n",
       " 'as_integer_ratio',\n",
       " 'bit_count',\n",
       " 'bit_length',\n",
       " 'conjugate',\n",
       " 'denominator',\n",
       " 'from_bytes',\n",
       " 'imag',\n",
       " 'numerator',\n",
       " 'real',\n",
       " 'to_bytes']"
      ]
     },
     "execution_count": 59,
     "metadata": {},
     "output_type": "execute_result"
    }
   ],
   "source": [
    "# making the instance of an object\n",
    "\n",
    "class PartyAnimal:\n",
    "    \n",
    "    def __init__(self):\n",
    "        self.x = 0\n",
    "        \n",
    "    def party(self):\n",
    "        self.x = self.x + 1\n",
    "        print('so far x is:',self.x)\n",
    "        \n",
    "     # object deleted   \n",
    "    def __del__(self):\n",
    "        print('am destructed', self.x)\n",
    "        \n",
    "an = PartyAnimal()\n",
    "\n",
    "# PartyAnimal().party() # is the same as below\n",
    "\n",
    "an.party()\n",
    "an.party()\n",
    "an.party()\n",
    "\n",
    "an = 40 # object destruction\n",
    "print('the new value is:',an)\n",
    "\n",
    "#check what type is an instance\n",
    "type(an)\n",
    "dir(an) #what can be done\n"
   ]
  },
  {
   "cell_type": "code",
   "execution_count": 45,
   "id": "d2b6ada1-04c8-40d1-bc3d-86ee3b05ba87",
   "metadata": {
    "tags": []
   },
   "outputs": [
    {
     "data": {
      "text/plain": [
       "['__add__',\n",
       " '__class__',\n",
       " '__class_getitem__',\n",
       " '__contains__',\n",
       " '__delattr__',\n",
       " '__delitem__',\n",
       " '__dir__',\n",
       " '__doc__',\n",
       " '__eq__',\n",
       " '__format__',\n",
       " '__ge__',\n",
       " '__getattribute__',\n",
       " '__getitem__',\n",
       " '__getstate__',\n",
       " '__gt__',\n",
       " '__hash__',\n",
       " '__iadd__',\n",
       " '__imul__',\n",
       " '__init__',\n",
       " '__init_subclass__',\n",
       " '__iter__',\n",
       " '__le__',\n",
       " '__len__',\n",
       " '__lt__',\n",
       " '__mul__',\n",
       " '__ne__',\n",
       " '__new__',\n",
       " '__reduce__',\n",
       " '__reduce_ex__',\n",
       " '__repr__',\n",
       " '__reversed__',\n",
       " '__rmul__',\n",
       " '__setattr__',\n",
       " '__setitem__',\n",
       " '__sizeof__',\n",
       " '__str__',\n",
       " '__subclasshook__',\n",
       " 'append',\n",
       " 'clear',\n",
       " 'copy',\n",
       " 'count',\n",
       " 'extend',\n",
       " 'index',\n",
       " 'insert',\n",
       " 'pop',\n",
       " 'remove',\n",
       " 'reverse',\n",
       " 'sort']"
      ]
     },
     "execution_count": 45,
     "metadata": {},
     "output_type": "execute_result"
    }
   ],
   "source": [
    "#checking what operations Python can do with lists\n",
    "y = list()\n",
    "type(y)\n",
    "dir(y)"
   ]
  },
  {
   "cell_type": "code",
   "execution_count": 49,
   "id": "33af909b-d698-454f-88c5-f62a8cd3bf17",
   "metadata": {
    "tags": []
   },
   "outputs": [
    {
     "data": {
      "text/plain": [
       "['__class__',\n",
       " '__class_getitem__',\n",
       " '__contains__',\n",
       " '__delattr__',\n",
       " '__delitem__',\n",
       " '__dir__',\n",
       " '__doc__',\n",
       " '__eq__',\n",
       " '__format__',\n",
       " '__ge__',\n",
       " '__getattribute__',\n",
       " '__getitem__',\n",
       " '__getstate__',\n",
       " '__gt__',\n",
       " '__hash__',\n",
       " '__init__',\n",
       " '__init_subclass__',\n",
       " '__ior__',\n",
       " '__iter__',\n",
       " '__le__',\n",
       " '__len__',\n",
       " '__lt__',\n",
       " '__ne__',\n",
       " '__new__',\n",
       " '__or__',\n",
       " '__reduce__',\n",
       " '__reduce_ex__',\n",
       " '__repr__',\n",
       " '__reversed__',\n",
       " '__ror__',\n",
       " '__setattr__',\n",
       " '__setitem__',\n",
       " '__sizeof__',\n",
       " '__str__',\n",
       " '__subclasshook__',\n",
       " 'clear',\n",
       " 'copy',\n",
       " 'fromkeys',\n",
       " 'get',\n",
       " 'items',\n",
       " 'keys',\n",
       " 'pop',\n",
       " 'popitem',\n",
       " 'setdefault',\n",
       " 'update',\n",
       " 'values']"
      ]
     },
     "execution_count": 49,
     "metadata": {},
     "output_type": "execute_result"
    }
   ],
   "source": [
    "#what python can do with dict\n",
    "y = {}\n",
    "type(y)\n",
    "dir(y)"
   ]
  },
  {
   "cell_type": "code",
   "execution_count": 114,
   "id": "43c5fef0-970e-4131-ab4d-061e022f5e58",
   "metadata": {
    "tags": []
   },
   "outputs": [
    {
     "name": "stdout",
     "output_type": "stream",
     "text": [
      "John constructed\n",
      "zimbabwean fans are here!\n",
      "so far x is: John 1\n",
      "None\n",
      "so far we have: 8 zimbabwean fans\n",
      "None\n"
     ]
    }
   ],
   "source": [
    "# INHERITANCE\n",
    "class PartyAnimal:\n",
    "    \n",
    "    def __init__(self, z):\n",
    "        self.x = 0\n",
    "        self.name = z\n",
    "        print(self.name, 'constructed')\n",
    "        \n",
    "    def party(self):\n",
    "        self.x = self.x + 1\n",
    "        print('so far x is:',self.name, self.x)\n",
    "        \n",
    "class FootballFans: \n",
    "    \n",
    "    def __init__(self, nam):\n",
    "        self.x = 1\n",
    "        self.nam = nam\n",
    "        print(self.nam, 'are here!')\n",
    "        \n",
    "    def sports(self):\n",
    "        self.x = self.x + 7\n",
    "        print('so far we have:',self.x, self.nam)\n",
    "        \n",
    "# s = PartyAnimal('tra')\n",
    "# z = PartyAnimal('tyr')\n",
    "# print(s.party())\n",
    "# print(z.party())\n",
    "\n",
    "#initialise the instances for call\n",
    "a = PartyAnimal('John')\n",
    "b = FootballFans('zimbabwean fans')\n",
    "\n",
    "print(a.party())\n",
    "print(b.sports())"
   ]
  },
  {
   "cell_type": "code",
   "execution_count": null,
   "id": "1147e454-ff9e-4747-abe1-df803a524cee",
   "metadata": {
    "tags": []
   },
   "outputs": [],
   "source": []
  },
  {
   "cell_type": "code",
   "execution_count": null,
   "id": "53da8390-7c46-4c8a-8b52-111673995417",
   "metadata": {},
   "outputs": [],
   "source": []
  }
 ],
 "metadata": {
  "kernelspec": {
   "display_name": "Python 3 (ipykernel)",
   "language": "python",
   "name": "python3"
  },
  "language_info": {
   "codemirror_mode": {
    "name": "ipython",
    "version": 3
   },
   "file_extension": ".py",
   "mimetype": "text/x-python",
   "name": "python",
   "nbconvert_exporter": "python",
   "pygments_lexer": "ipython3",
   "version": "3.11.5"
  }
 },
 "nbformat": 4,
 "nbformat_minor": 5
}
